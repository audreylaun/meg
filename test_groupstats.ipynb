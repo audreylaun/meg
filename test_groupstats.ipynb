{
 "cells": [
  {
   "cell_type": "code",
   "id": "initial_id",
   "metadata": {
    "collapsed": true,
    "ExecuteTime": {
     "end_time": "2025-07-30T21:18:16.174920Z",
     "start_time": "2025-07-30T21:18:16.166526Z"
    }
   },
   "source": [
    "import numpy as np\n",
    "from numpy.random import randn\n",
    "from scipy import stats as stats\n",
    "import mne\n",
    "import matplotlib.pyplot as plt\n",
    "import argparse\n",
    "from mne.channels import find_ch_adjacency\n",
    "from mne.stats import combine_adjacency, spatio_temporal_cluster_test\n",
    "from mne.viz import plot_compare_evokeds\n",
    "from mne.epochs import equalize_epoch_counts\n",
    "from mne.minimum_norm import apply_inverse, read_inverse_operator\n",
    "from mne.stats import spatio_temporal_cluster_1samp_test, summarize_clusters_stc\n",
    "from mpl_toolkits.axes_grid1 import ImageGrid, inset_locator, make_axes_locatable"
   ],
   "outputs": [],
   "execution_count": 69
  },
  {
   "metadata": {
    "ExecuteTime": {
     "end_time": "2025-07-30T21:19:44.796975Z",
     "start_time": "2025-07-30T21:18:18.193252Z"
    }
   },
   "cell_type": "code",
   "source": [
    "subs = ['R3250', 'R3254', 'R3261', 'R3264', 'R3270','R3271','R3272','R3273','R3275','R3277','R3279','R3285','R3286','R3289','R3290']\n",
    "\n",
    "ident_prod_evokeds = []\n",
    "unrel_prod_evokeds = []\n",
    "ident_comp_evokeds = []\n",
    "unrel_comp_evokeds = []\n",
    "\n",
    "#Load the evoked data to arrays by condition\n",
    "for sub in subs:\n",
    "    directory = '/Users/admin/Box Sync/Starling/Experiment1/MEG_data/' + sub + '/'\n",
    "    tmin=0.3\n",
    "    tmax=0.7\n",
    "\n",
    "    #Load all epoched data\n",
    "    prod_fname = directory + sub + '_prod_TEST-epo.fif'\n",
    "    epochs_prod = mne.read_epochs(prod_fname, preload =True)\n",
    "    comp_fname = directory + sub + '_comp_TEST-epo.fif'\n",
    "    epochs_comp = mne.read_epochs(comp_fname, preload = True)\n",
    "\n",
    "    ident_prod = epochs_prod['production identical']\n",
    "    unrel_prod = epochs_prod['production unrelated']\n",
    "    ident_comp = epochs_comp['comprehension identical']\n",
    "    unrel_comp = epochs_comp['comprehension unrelated']\n",
    "\n",
    "    mne.epochs.equalize_epoch_counts([ident_prod, unrel_prod, ident_comp, unrel_comp], method = 'random')\n",
    "\n",
    "    ident_prod_evokeds.append(ident_prod.average(picks='mag').filter(l_freq=0, h_freq=40))\n",
    "    unrel_prod_evokeds.append(unrel_prod.average(picks='mag').filter(l_freq=0, h_freq=40))\n",
    "    ident_comp_evokeds.append(ident_comp.average(picks='mag').filter(l_freq=0, h_freq=40))\n",
    "    unrel_comp_evokeds.append(unrel_comp.average(picks='mag').filter(l_freq=0, h_freq=40))\n",
    "\n",
    "\n",
    "#Grand average the evoked data (for plotting)\n",
    "ident_prod_ga = mne.grand_average(ident_prod_evokeds)\n",
    "unrel_prod_ga = mne.grand_average(unrel_prod_evokeds)\n",
    "ident_comp_ga = mne.grand_average(ident_comp_evokeds)\n",
    "unrel_comp_ga = mne.grand_average(unrel_comp_evokeds)\n",
    "\n",
    "\n",
    "# PRODUCTION\n",
    "#Conduct the test for production, with test only run for tmin to tmax time window\n",
    "prod_ident_data = np.stack([x.get_data(picks='mag', tmin=tmin, tmax=tmax) for x in ident_prod_evokeds], axis=0)\n",
    "prod_unrel_data = np.stack([x.get_data(picks='mag', tmin=tmin, tmax=tmax) for x in unrel_prod_evokeds], axis=0)\n",
    "\n",
    "del ident_prod_evokeds, unrel_prod_evokeds\n",
    "\n",
    "#X shape: (# of conditions, # of trials/subjects, # of timepoints, # of channels)\n",
    "X = np.stack([prod_ident_data, prod_unrel_data])\n",
    "X = [np.transpose(x, (0,2,1)) for x in X]\n",
    "\n",
    "#Load a sample epoch from a single subject to compute adjacency matrix\n",
    "# prod_fname = '/Users/admin/Box Sync/Starling/Experiment1/MEG_data/R3250/R3250_prod_TEST-epo.fif'\n",
    "# sample_prod = mne.read_epochs(prod_fname, preload=True)\n",
    "#REPLACED SAMPLE_PROD WITH IDENT_PROD_GA\n",
    "\n",
    "adjacency, ch_names = find_ch_adjacency(ident_prod_ga.info, ch_type = 'mag')"
   ],
   "id": "5b34724d0db20de2",
   "outputs": [
    {
     "name": "stdout",
     "output_type": "stream",
     "text": [
      "Reading /Users/admin/Box Sync/Starling/Experiment1/MEG_data/R3250/R3250_prod_TEST-epo.fif ...\n",
      "    Read a total of 2 projection items:\n",
      "        axial-Raw-0.000-120.000-PCA-01 (1 x 155) active\n",
      "        axial-Raw-0.000-120.000-PCA-02 (1 x 155) active\n",
      "    Found the data of interest:\n",
      "        t =    -300.00 ...     700.00 ms\n",
      "        0 CTF compensation matrices available\n",
      "Not setting metadata\n",
      "97 matching events found\n",
      "No baseline correction applied\n",
      "Created an SSP operator (subspace dimension = 2)\n",
      "2 projection items activated\n",
      "Reading /Users/admin/Box Sync/Starling/Experiment1/MEG_data/R3250/R3250_comp_TEST-epo.fif ...\n",
      "    Read a total of 2 projection items:\n",
      "        axial-Raw-0.000-120.000-PCA-01 (1 x 155) active\n",
      "        axial-Raw-0.000-120.000-PCA-02 (1 x 155) active\n",
      "    Found the data of interest:\n",
      "        t =    -300.00 ...     700.00 ms\n",
      "        0 CTF compensation matrices available\n",
      "Not setting metadata\n",
      "100 matching events found\n",
      "No baseline correction applied\n",
      "Created an SSP operator (subspace dimension = 2)\n",
      "2 projection items activated\n",
      "Dropped 1 epoch: 21\n",
      "Dropped 0 epochs: \n",
      "Dropped 2 epochs: 12, 35\n",
      "Dropped 2 epochs: 9, 43\n",
      "Setting up low-pass filter at 40 Hz\n",
      "\n",
      "FIR filter parameters\n",
      "---------------------\n",
      "Designing a one-pass, zero-phase, non-causal lowpass filter:\n",
      "- Windowed time-domain design (firwin) method\n",
      "- Hamming window with 0.0194 passband ripple and 53 dB stopband attenuation\n",
      "- Upper passband edge: 40.00 Hz\n",
      "- Upper transition bandwidth: 10.00 Hz (-6 dB cutoff frequency: 45.00 Hz)\n",
      "- Filter length: 331 samples (0.331 s)\n",
      "\n",
      "Setting up low-pass filter at 40 Hz\n",
      "\n",
      "FIR filter parameters\n",
      "---------------------\n",
      "Designing a one-pass, zero-phase, non-causal lowpass filter:\n",
      "- Windowed time-domain design (firwin) method\n",
      "- Hamming window with 0.0194 passband ripple and 53 dB stopband attenuation\n",
      "- Upper passband edge: 40.00 Hz\n",
      "- Upper transition bandwidth: 10.00 Hz (-6 dB cutoff frequency: 45.00 Hz)\n",
      "- Filter length: 331 samples (0.331 s)\n",
      "\n",
      "Setting up low-pass filter at 40 Hz\n",
      "\n",
      "FIR filter parameters\n",
      "---------------------\n",
      "Designing a one-pass, zero-phase, non-causal lowpass filter:\n",
      "- Windowed time-domain design (firwin) method\n",
      "- Hamming window with 0.0194 passband ripple and 53 dB stopband attenuation\n",
      "- Upper passband edge: 40.00 Hz\n",
      "- Upper transition bandwidth: 10.00 Hz (-6 dB cutoff frequency: 45.00 Hz)\n",
      "- Filter length: 331 samples (0.331 s)\n"
     ]
    },
    {
     "name": "stderr",
     "output_type": "stream",
     "text": [
      "[Parallel(n_jobs=1)]: Done  17 tasks      | elapsed:    0.0s\n",
      "[Parallel(n_jobs=1)]: Done  71 tasks      | elapsed:    0.0s\n",
      "[Parallel(n_jobs=1)]: Done  17 tasks      | elapsed:    0.0s\n",
      "[Parallel(n_jobs=1)]: Done  71 tasks      | elapsed:    0.0s\n"
     ]
    },
    {
     "name": "stdout",
     "output_type": "stream",
     "text": [
      "\n",
      "Setting up low-pass filter at 40 Hz\n",
      "\n",
      "FIR filter parameters\n",
      "---------------------\n",
      "Designing a one-pass, zero-phase, non-causal lowpass filter:\n",
      "- Windowed time-domain design (firwin) method\n",
      "- Hamming window with 0.0194 passband ripple and 53 dB stopband attenuation\n",
      "- Upper passband edge: 40.00 Hz\n",
      "- Upper transition bandwidth: 10.00 Hz (-6 dB cutoff frequency: 45.00 Hz)\n",
      "- Filter length: 331 samples (0.331 s)\n",
      "\n",
      "Reading /Users/admin/Box Sync/Starling/Experiment1/MEG_data/R3254/R3254_prod_TEST-epo.fif ...\n",
      "    Read a total of 2 projection items:\n",
      "        axial-Raw-0.000-120.000-PCA-01 (1 x 156) active\n",
      "        axial-Raw-0.000-120.000-PCA-02 (1 x 156) active\n",
      "    Found the data of interest:\n"
     ]
    },
    {
     "name": "stderr",
     "output_type": "stream",
     "text": [
      "[Parallel(n_jobs=1)]: Done  17 tasks      | elapsed:    0.0s\n",
      "[Parallel(n_jobs=1)]: Done  71 tasks      | elapsed:    0.0s\n",
      "[Parallel(n_jobs=1)]: Done  17 tasks      | elapsed:    0.0s\n",
      "[Parallel(n_jobs=1)]: Done  71 tasks      | elapsed:    0.0s\n"
     ]
    },
    {
     "name": "stdout",
     "output_type": "stream",
     "text": [
      "        t =    -300.00 ...     700.00 ms\n",
      "        0 CTF compensation matrices available\n",
      "Not setting metadata\n",
      "93 matching events found\n",
      "No baseline correction applied\n",
      "Created an SSP operator (subspace dimension = 2)\n",
      "2 projection items activated\n",
      "Reading /Users/admin/Box Sync/Starling/Experiment1/MEG_data/R3254/R3254_comp_TEST-epo.fif ...\n",
      "    Read a total of 2 projection items:\n",
      "        axial-Raw-0.000-120.000-PCA-01 (1 x 155) active\n",
      "        axial-Raw-0.000-120.000-PCA-02 (1 x 155) active\n",
      "    Found the data of interest:\n",
      "        t =    -300.00 ...     700.00 ms\n",
      "        0 CTF compensation matrices available\n",
      "Not setting metadata\n",
      "100 matching events found\n",
      "No baseline correction applied\n",
      "Created an SSP operator (subspace dimension = 2)\n",
      "2 projection items activated\n",
      "Dropped 3 epochs: 5, 13, 25\n",
      "Dropped 0 epochs: \n",
      "Dropped 5 epochs: 0, 19, 23, 36, 39\n",
      "Dropped 5 epochs: 15, 17, 18, 40, 45\n",
      "Setting up low-pass filter at 40 Hz\n",
      "\n",
      "FIR filter parameters\n",
      "---------------------\n",
      "Designing a one-pass, zero-phase, non-causal lowpass filter:\n",
      "- Windowed time-domain design (firwin) method\n",
      "- Hamming window with 0.0194 passband ripple and 53 dB stopband attenuation\n",
      "- Upper passband edge: 40.00 Hz\n",
      "- Upper transition bandwidth: 10.00 Hz (-6 dB cutoff frequency: 45.00 Hz)\n",
      "- Filter length: 331 samples (0.331 s)\n",
      "\n",
      "Setting up low-pass filter at 40 Hz\n",
      "\n",
      "FIR filter parameters\n",
      "---------------------\n",
      "Designing a one-pass, zero-phase, non-causal lowpass filter:\n",
      "- Windowed time-domain design (firwin) method\n",
      "- Hamming window with 0.0194 passband ripple and 53 dB stopband attenuation\n",
      "- Upper passband edge: 40.00 Hz\n",
      "- Upper transition bandwidth: 10.00 Hz (-6 dB cutoff frequency: 45.00 Hz)\n",
      "- Filter length: 331 samples (0.331 s)\n",
      "\n",
      "Setting up low-pass filter at 40 Hz\n",
      "\n",
      "FIR filter parameters\n",
      "---------------------\n",
      "Designing a one-pass, zero-phase, non-causal lowpass filter:\n",
      "- Windowed time-domain design (firwin) method\n",
      "- Hamming window with 0.0194 passband ripple and 53 dB stopband attenuation\n",
      "- Upper passband edge: 40.00 Hz\n",
      "- Upper transition bandwidth: 10.00 Hz (-6 dB cutoff frequency: 45.00 Hz)\n",
      "- Filter length: 331 samples (0.331 s)\n",
      "\n"
     ]
    },
    {
     "name": "stderr",
     "output_type": "stream",
     "text": [
      "[Parallel(n_jobs=1)]: Done  17 tasks      | elapsed:    0.0s\n",
      "[Parallel(n_jobs=1)]: Done  71 tasks      | elapsed:    0.0s\n",
      "[Parallel(n_jobs=1)]: Done  17 tasks      | elapsed:    0.0s\n",
      "[Parallel(n_jobs=1)]: Done  71 tasks      | elapsed:    0.0s\n",
      "[Parallel(n_jobs=1)]: Done  17 tasks      | elapsed:    0.0s\n",
      "[Parallel(n_jobs=1)]: Done  71 tasks      | elapsed:    0.0s\n"
     ]
    },
    {
     "name": "stdout",
     "output_type": "stream",
     "text": [
      "Setting up low-pass filter at 40 Hz\n",
      "\n",
      "FIR filter parameters\n",
      "---------------------\n",
      "Designing a one-pass, zero-phase, non-causal lowpass filter:\n",
      "- Windowed time-domain design (firwin) method\n",
      "- Hamming window with 0.0194 passband ripple and 53 dB stopband attenuation\n",
      "- Upper passband edge: 40.00 Hz\n",
      "- Upper transition bandwidth: 10.00 Hz (-6 dB cutoff frequency: 45.00 Hz)\n",
      "- Filter length: 331 samples (0.331 s)\n",
      "\n",
      "Reading /Users/admin/Box Sync/Starling/Experiment1/MEG_data/R3261/R3261_prod_TEST-epo.fif ...\n",
      "    Read a total of 2 projection items:\n",
      "        axial-Raw-0.000-120.000-PCA-01 (1 x 155) active\n",
      "        axial-Raw-0.000-120.000-PCA-02 (1 x 155) active\n",
      "    Found the data of interest:\n",
      "        t =    -300.00 ...     700.00 ms\n",
      "        0 CTF compensation matrices available\n"
     ]
    },
    {
     "name": "stderr",
     "output_type": "stream",
     "text": [
      "[Parallel(n_jobs=1)]: Done  17 tasks      | elapsed:    0.0s\n",
      "[Parallel(n_jobs=1)]: Done  71 tasks      | elapsed:    0.0s\n"
     ]
    },
    {
     "name": "stdout",
     "output_type": "stream",
     "text": [
      "Not setting metadata\n",
      "91 matching events found\n",
      "No baseline correction applied\n",
      "Created an SSP operator (subspace dimension = 2)\n",
      "2 projection items activated\n",
      "Reading /Users/admin/Box Sync/Starling/Experiment1/MEG_data/R3261/R3261_comp_TEST-epo.fif ...\n",
      "    Read a total of 2 projection items:\n",
      "        axial-Raw-0.000-120.000-PCA-01 (1 x 155) active\n",
      "        axial-Raw-0.000-120.000-PCA-02 (1 x 155) active\n",
      "    Found the data of interest:\n",
      "        t =    -300.00 ...     700.00 ms\n",
      "        0 CTF compensation matrices available\n",
      "Not setting metadata\n",
      "100 matching events found\n",
      "No baseline correction applied\n",
      "Created an SSP operator (subspace dimension = 2)\n",
      "2 projection items activated\n",
      "Dropped 3 epochs: 10, 17, 45\n",
      "Dropped 0 epochs: \n",
      "Dropped 6 epochs: 4, 9, 15, 24, 29, 40\n",
      "Dropped 6 epochs: 0, 15, 23, 26, 29, 37\n",
      "Setting up low-pass filter at 40 Hz\n",
      "\n",
      "FIR filter parameters\n",
      "---------------------\n",
      "Designing a one-pass, zero-phase, non-causal lowpass filter:\n",
      "- Windowed time-domain design (firwin) method\n",
      "- Hamming window with 0.0194 passband ripple and 53 dB stopband attenuation\n",
      "- Upper passband edge: 40.00 Hz\n",
      "- Upper transition bandwidth: 10.00 Hz (-6 dB cutoff frequency: 45.00 Hz)\n",
      "- Filter length: 331 samples (0.331 s)\n",
      "\n",
      "Setting up low-pass filter at 40 Hz\n",
      "\n",
      "FIR filter parameters\n",
      "---------------------\n",
      "Designing a one-pass, zero-phase, non-causal lowpass filter:\n",
      "- Windowed time-domain design (firwin) method\n",
      "- Hamming window with 0.0194 passband ripple and 53 dB stopband attenuation\n",
      "- Upper passband edge: 40.00 Hz\n",
      "- Upper transition bandwidth: 10.00 Hz (-6 dB cutoff frequency: 45.00 Hz)\n",
      "- Filter length: 331 samples (0.331 s)\n",
      "\n",
      "Setting up low-pass filter at 40 Hz\n",
      "\n",
      "FIR filter parameters\n",
      "---------------------\n",
      "Designing a one-pass, zero-phase, non-causal lowpass filter:\n",
      "- Windowed time-domain design (firwin) method\n",
      "- Hamming window with 0.0194 passband ripple and 53 dB stopband attenuation\n",
      "- Upper passband edge: 40.00 Hz\n",
      "- Upper transition bandwidth: 10.00 Hz (-6 dB cutoff frequency: 45.00 Hz)\n",
      "- Filter length: 331 samples (0.331 s)\n",
      "\n"
     ]
    },
    {
     "name": "stderr",
     "output_type": "stream",
     "text": [
      "[Parallel(n_jobs=1)]: Done  17 tasks      | elapsed:    0.0s\n",
      "[Parallel(n_jobs=1)]: Done  71 tasks      | elapsed:    0.0s\n",
      "[Parallel(n_jobs=1)]: Done  17 tasks      | elapsed:    0.0s\n",
      "[Parallel(n_jobs=1)]: Done  71 tasks      | elapsed:    0.0s\n",
      "[Parallel(n_jobs=1)]: Done  17 tasks      | elapsed:    0.0s\n",
      "[Parallel(n_jobs=1)]: Done  71 tasks      | elapsed:    0.0s\n"
     ]
    },
    {
     "name": "stdout",
     "output_type": "stream",
     "text": [
      "Setting up low-pass filter at 40 Hz\n",
      "\n",
      "FIR filter parameters\n",
      "---------------------\n",
      "Designing a one-pass, zero-phase, non-causal lowpass filter:\n",
      "- Windowed time-domain design (firwin) method\n",
      "- Hamming window with 0.0194 passband ripple and 53 dB stopband attenuation\n",
      "- Upper passband edge: 40.00 Hz\n",
      "- Upper transition bandwidth: 10.00 Hz (-6 dB cutoff frequency: 45.00 Hz)\n",
      "- Filter length: 331 samples (0.331 s)\n",
      "\n",
      "Reading /Users/admin/Box Sync/Starling/Experiment1/MEG_data/R3264/R3264_prod_TEST-epo.fif ...\n",
      "    Read a total of 2 projection items:\n",
      "        axial-Raw-0.000-120.000-PCA-01 (1 x 156) active\n",
      "        axial-Raw-0.000-120.000-PCA-02 (1 x 156) active\n",
      "    Found the data of interest:\n",
      "        t =    -300.00 ...     700.00 ms\n",
      "        0 CTF compensation matrices available\n"
     ]
    },
    {
     "name": "stderr",
     "output_type": "stream",
     "text": [
      "[Parallel(n_jobs=1)]: Done  17 tasks      | elapsed:    0.0s\n",
      "[Parallel(n_jobs=1)]: Done  71 tasks      | elapsed:    0.0s\n"
     ]
    },
    {
     "name": "stdout",
     "output_type": "stream",
     "text": [
      "Not setting metadata\n",
      "87 matching events found\n",
      "No baseline correction applied\n",
      "Created an SSP operator (subspace dimension = 2)\n",
      "2 projection items activated\n",
      "Reading /Users/admin/Box Sync/Starling/Experiment1/MEG_data/R3264/R3264_comp_TEST-epo.fif ...\n",
      "    Read a total of 2 projection items:\n",
      "        axial-Raw-0.000-120.000-PCA-01 (1 x 155) active\n",
      "        axial-Raw-0.000-120.000-PCA-02 (1 x 155) active\n",
      "    Found the data of interest:\n",
      "        t =    -300.00 ...     700.00 ms\n",
      "        0 CTF compensation matrices available\n",
      "Not setting metadata\n",
      "100 matching events found\n",
      "No baseline correction applied\n",
      "Created an SSP operator (subspace dimension = 2)\n",
      "2 projection items activated\n",
      "Dropped 1 epoch: 17\n",
      "Dropped 0 epochs: \n",
      "Dropped 7 epochs: 33, 34, 41, 43, 46, 47, 49\n",
      "Dropped 7 epochs: 7, 15, 22, 28, 30, 33, 43\n",
      "Setting up low-pass filter at 40 Hz\n",
      "\n",
      "FIR filter parameters\n",
      "---------------------\n",
      "Designing a one-pass, zero-phase, non-causal lowpass filter:\n",
      "- Windowed time-domain design (firwin) method\n",
      "- Hamming window with 0.0194 passband ripple and 53 dB stopband attenuation\n",
      "- Upper passband edge: 40.00 Hz\n",
      "- Upper transition bandwidth: 10.00 Hz (-6 dB cutoff frequency: 45.00 Hz)\n",
      "- Filter length: 331 samples (0.331 s)\n",
      "\n",
      "Setting up low-pass filter at 40 Hz\n",
      "\n",
      "FIR filter parameters\n",
      "---------------------\n",
      "Designing a one-pass, zero-phase, non-causal lowpass filter:\n",
      "- Windowed time-domain design (firwin) method\n",
      "- Hamming window with 0.0194 passband ripple and 53 dB stopband attenuation\n",
      "- Upper passband edge: 40.00 Hz\n",
      "- Upper transition bandwidth: 10.00 Hz (-6 dB cutoff frequency: 45.00 Hz)\n",
      "- Filter length: 331 samples (0.331 s)\n",
      "\n",
      "Setting up low-pass filter at 40 Hz\n",
      "\n",
      "FIR filter parameters\n",
      "---------------------\n",
      "Designing a one-pass, zero-phase, non-causal lowpass filter:\n",
      "- Windowed time-domain design (firwin) method\n",
      "- Hamming window with 0.0194 passband ripple and 53 dB stopband attenuation\n",
      "- Upper passband edge: 40.00 Hz\n",
      "- Upper transition bandwidth: 10.00 Hz (-6 dB cutoff frequency: 45.00 Hz)\n",
      "- Filter length: 331 samples (0.331 s)\n",
      "\n"
     ]
    },
    {
     "name": "stderr",
     "output_type": "stream",
     "text": [
      "[Parallel(n_jobs=1)]: Done  17 tasks      | elapsed:    0.0s\n",
      "[Parallel(n_jobs=1)]: Done  71 tasks      | elapsed:    0.0s\n",
      "[Parallel(n_jobs=1)]: Done  17 tasks      | elapsed:    0.0s\n",
      "[Parallel(n_jobs=1)]: Done  71 tasks      | elapsed:    0.0s\n",
      "[Parallel(n_jobs=1)]: Done  17 tasks      | elapsed:    0.0s\n",
      "[Parallel(n_jobs=1)]: Done  71 tasks      | elapsed:    0.0s\n"
     ]
    },
    {
     "name": "stdout",
     "output_type": "stream",
     "text": [
      "Setting up low-pass filter at 40 Hz\n",
      "\n",
      "FIR filter parameters\n",
      "---------------------\n",
      "Designing a one-pass, zero-phase, non-causal lowpass filter:\n",
      "- Windowed time-domain design (firwin) method\n",
      "- Hamming window with 0.0194 passband ripple and 53 dB stopband attenuation\n",
      "- Upper passband edge: 40.00 Hz\n",
      "- Upper transition bandwidth: 10.00 Hz (-6 dB cutoff frequency: 45.00 Hz)\n",
      "- Filter length: 331 samples (0.331 s)\n",
      "\n",
      "Reading /Users/admin/Box Sync/Starling/Experiment1/MEG_data/R3270/R3270_prod_TEST-epo.fif ...\n",
      "    Read a total of 2 projection items:\n",
      "        axial-Raw-0.000-120.000-PCA-01 (1 x 153) active\n",
      "        axial-Raw-0.000-120.000-PCA-02 (1 x 153) active\n",
      "    Found the data of interest:\n"
     ]
    },
    {
     "name": "stderr",
     "output_type": "stream",
     "text": [
      "[Parallel(n_jobs=1)]: Done  17 tasks      | elapsed:    0.0s\n",
      "[Parallel(n_jobs=1)]: Done  71 tasks      | elapsed:    0.0s\n"
     ]
    },
    {
     "name": "stdout",
     "output_type": "stream",
     "text": [
      "        t =    -300.00 ...     700.00 ms\n",
      "        0 CTF compensation matrices available\n",
      "Not setting metadata\n",
      "96 matching events found\n",
      "No baseline correction applied\n",
      "Created an SSP operator (subspace dimension = 2)\n",
      "2 projection items activated\n",
      "Reading /Users/admin/Box Sync/Starling/Experiment1/MEG_data/R3270/R3270_comp_TEST-epo.fif ...\n",
      "    Read a total of 2 projection items:\n",
      "        axial-Raw-0.000-120.000-PCA-01 (1 x 155) active\n",
      "        axial-Raw-0.000-120.000-PCA-02 (1 x 155) active\n",
      "    Found the data of interest:\n",
      "        t =    -300.00 ...     700.00 ms\n",
      "        0 CTF compensation matrices available\n",
      "Not setting metadata\n",
      "150 matching events found\n",
      "No baseline correction applied\n",
      "Created an SSP operator (subspace dimension = 2)\n",
      "2 projection items activated\n",
      "Dropped 0 epochs: \n",
      "Dropped 4 epochs: 5, 18, 20, 25\n",
      "Dropped 16 epochs: 0, 8, 12, 13, 14, 18, 20, 21, 22, 23, 24, 26, 30, 36, 44, 45\n",
      "Dropped 16 epochs: 1, 7, 9, 14, 18, 19, 20, 21, 24, 35, 37, 41, 43, 44, 47, 48\n",
      "Setting up low-pass filter at 40 Hz\n",
      "\n",
      "FIR filter parameters\n",
      "---------------------\n",
      "Designing a one-pass, zero-phase, non-causal lowpass filter:\n",
      "- Windowed time-domain design (firwin) method\n",
      "- Hamming window with 0.0194 passband ripple and 53 dB stopband attenuation\n",
      "- Upper passband edge: 40.00 Hz\n",
      "- Upper transition bandwidth: 10.00 Hz (-6 dB cutoff frequency: 45.00 Hz)\n",
      "- Filter length: 331 samples (0.331 s)\n",
      "\n",
      "Setting up low-pass filter at 40 Hz\n",
      "\n",
      "FIR filter parameters\n",
      "---------------------\n",
      "Designing a one-pass, zero-phase, non-causal lowpass filter:\n",
      "- Windowed time-domain design (firwin) method\n",
      "- Hamming window with 0.0194 passband ripple and 53 dB stopband attenuation\n",
      "- Upper passband edge: 40.00 Hz\n",
      "- Upper transition bandwidth: 10.00 Hz (-6 dB cutoff frequency: 45.00 Hz)\n",
      "- Filter length: 331 samples (0.331 s)\n",
      "\n",
      "Setting up low-pass filter at 40 Hz\n",
      "\n",
      "FIR filter parameters\n",
      "---------------------\n",
      "Designing a one-pass, zero-phase, non-causal lowpass filter:\n",
      "- Windowed time-domain design (firwin) method\n",
      "- Hamming window with 0.0194 passband ripple and 53 dB stopband attenuation\n",
      "- Upper passband edge: 40.00 Hz\n",
      "- Upper transition bandwidth: 10.00 Hz (-6 dB cutoff frequency: 45.00 Hz)\n",
      "- Filter length: 331 samples (0.331 s)\n",
      "\n"
     ]
    },
    {
     "name": "stderr",
     "output_type": "stream",
     "text": [
      "[Parallel(n_jobs=1)]: Done  17 tasks      | elapsed:    0.0s\n",
      "[Parallel(n_jobs=1)]: Done  71 tasks      | elapsed:    0.0s\n",
      "[Parallel(n_jobs=1)]: Done  17 tasks      | elapsed:    0.0s\n",
      "[Parallel(n_jobs=1)]: Done  71 tasks      | elapsed:    0.0s\n",
      "[Parallel(n_jobs=1)]: Done  17 tasks      | elapsed:    0.0s\n"
     ]
    },
    {
     "name": "stdout",
     "output_type": "stream",
     "text": [
      "Setting up low-pass filter at 40 Hz\n",
      "\n",
      "FIR filter parameters\n",
      "---------------------\n",
      "Designing a one-pass, zero-phase, non-causal lowpass filter:\n",
      "- Windowed time-domain design (firwin) method\n",
      "- Hamming window with 0.0194 passband ripple and 53 dB stopband attenuation\n",
      "- Upper passband edge: 40.00 Hz\n",
      "- Upper transition bandwidth: 10.00 Hz (-6 dB cutoff frequency: 45.00 Hz)\n",
      "- Filter length: 331 samples (0.331 s)\n",
      "\n",
      "Reading /Users/admin/Box Sync/Starling/Experiment1/MEG_data/R3271/R3271_prod_TEST-epo.fif ...\n",
      "    Read a total of 2 projection items:\n",
      "        axial-Raw-0.000-120.000-PCA-01 (1 x 155) active\n",
      "        axial-Raw-0.000-120.000-PCA-02 (1 x 155) active\n",
      "    Found the data of interest:\n"
     ]
    },
    {
     "name": "stderr",
     "output_type": "stream",
     "text": [
      "[Parallel(n_jobs=1)]: Done  71 tasks      | elapsed:    0.0s\n",
      "[Parallel(n_jobs=1)]: Done  17 tasks      | elapsed:    0.0s\n",
      "[Parallel(n_jobs=1)]: Done  71 tasks      | elapsed:    0.0s\n"
     ]
    },
    {
     "name": "stdout",
     "output_type": "stream",
     "text": [
      "        t =    -300.00 ...     700.00 ms\n",
      "        0 CTF compensation matrices available\n",
      "Not setting metadata\n",
      "119 matching events found\n",
      "No baseline correction applied\n",
      "Created an SSP operator (subspace dimension = 2)\n",
      "2 projection items activated\n",
      "Reading /Users/admin/Box Sync/Starling/Experiment1/MEG_data/R3271/R3271_comp_TEST-epo.fif ...\n",
      "    Read a total of 2 projection items:\n",
      "        axial-Raw-0.000-120.000-PCA-01 (1 x 155) active\n",
      "        axial-Raw-0.000-120.000-PCA-02 (1 x 155) active\n",
      "    Found the data of interest:\n",
      "        t =    -300.00 ...     700.00 ms\n",
      "        0 CTF compensation matrices available\n",
      "Not setting metadata\n",
      "150 matching events found\n",
      "No baseline correction applied\n",
      "Created an SSP operator (subspace dimension = 2)\n",
      "2 projection items activated\n",
      "Dropped 1 epoch: 27\n",
      "Dropped 0 epochs: \n",
      "Dropped 7 epochs: 2, 6, 15, 23, 30, 38, 46\n",
      "Dropped 7 epochs: 5, 18, 29, 30, 34, 41, 49\n",
      "Setting up low-pass filter at 40 Hz\n",
      "\n",
      "FIR filter parameters\n",
      "---------------------\n",
      "Designing a one-pass, zero-phase, non-causal lowpass filter:\n",
      "- Windowed time-domain design (firwin) method\n",
      "- Hamming window with 0.0194 passband ripple and 53 dB stopband attenuation\n",
      "- Upper passband edge: 40.00 Hz\n",
      "- Upper transition bandwidth: 10.00 Hz (-6 dB cutoff frequency: 45.00 Hz)\n",
      "- Filter length: 331 samples (0.331 s)\n",
      "\n",
      "Setting up low-pass filter at 40 Hz\n",
      "\n",
      "FIR filter parameters\n",
      "---------------------\n",
      "Designing a one-pass, zero-phase, non-causal lowpass filter:\n",
      "- Windowed time-domain design (firwin) method\n",
      "- Hamming window with 0.0194 passband ripple and 53 dB stopband attenuation\n",
      "- Upper passband edge: 40.00 Hz\n",
      "- Upper transition bandwidth: 10.00 Hz (-6 dB cutoff frequency: 45.00 Hz)\n",
      "- Filter length: 331 samples (0.331 s)\n",
      "\n"
     ]
    },
    {
     "name": "stderr",
     "output_type": "stream",
     "text": [
      "[Parallel(n_jobs=1)]: Done  17 tasks      | elapsed:    0.0s\n",
      "[Parallel(n_jobs=1)]: Done  71 tasks      | elapsed:    0.0s\n",
      "[Parallel(n_jobs=1)]: Done  17 tasks      | elapsed:    0.0s\n",
      "[Parallel(n_jobs=1)]: Done  71 tasks      | elapsed:    0.0s\n"
     ]
    },
    {
     "name": "stdout",
     "output_type": "stream",
     "text": [
      "Setting up low-pass filter at 40 Hz\n",
      "\n",
      "FIR filter parameters\n",
      "---------------------\n",
      "Designing a one-pass, zero-phase, non-causal lowpass filter:\n",
      "- Windowed time-domain design (firwin) method\n",
      "- Hamming window with 0.0194 passband ripple and 53 dB stopband attenuation\n",
      "- Upper passband edge: 40.00 Hz\n",
      "- Upper transition bandwidth: 10.00 Hz (-6 dB cutoff frequency: 45.00 Hz)\n",
      "- Filter length: 331 samples (0.331 s)\n",
      "\n",
      "Setting up low-pass filter at 40 Hz\n",
      "\n",
      "FIR filter parameters\n",
      "---------------------\n",
      "Designing a one-pass, zero-phase, non-causal lowpass filter:\n",
      "- Windowed time-domain design (firwin) method\n",
      "- Hamming window with 0.0194 passband ripple and 53 dB stopband attenuation\n",
      "- Upper passband edge: 40.00 Hz\n",
      "- Upper transition bandwidth: 10.00 Hz (-6 dB cutoff frequency: 45.00 Hz)\n",
      "- Filter length: 331 samples (0.331 s)\n",
      "\n",
      "Reading /Users/admin/Box Sync/Starling/Experiment1/MEG_data/R3272/R3272_prod_TEST-epo.fif ...\n"
     ]
    },
    {
     "name": "stderr",
     "output_type": "stream",
     "text": [
      "[Parallel(n_jobs=1)]: Done  17 tasks      | elapsed:    0.0s\n",
      "[Parallel(n_jobs=1)]: Done  71 tasks      | elapsed:    0.0s\n",
      "[Parallel(n_jobs=1)]: Done  17 tasks      | elapsed:    0.0s\n",
      "[Parallel(n_jobs=1)]: Done  71 tasks      | elapsed:    0.0s\n"
     ]
    },
    {
     "name": "stdout",
     "output_type": "stream",
     "text": [
      "    Read a total of 2 projection items:\n",
      "        axial-Raw-0.000-120.000-PCA-01 (1 x 155) active\n",
      "        axial-Raw-0.000-120.000-PCA-02 (1 x 155) active\n",
      "    Found the data of interest:\n",
      "        t =    -300.00 ...     700.00 ms\n",
      "        0 CTF compensation matrices available\n",
      "Not setting metadata\n",
      "112 matching events found\n",
      "No baseline correction applied\n",
      "Created an SSP operator (subspace dimension = 2)\n",
      "2 projection items activated\n",
      "Reading /Users/admin/Box Sync/Starling/Experiment1/MEG_data/R3272/R3272_comp_TEST-epo.fif ...\n",
      "    Read a total of 2 projection items:\n",
      "        axial-Raw-0.000-120.000-PCA-01 (1 x 155) active\n",
      "        axial-Raw-0.000-120.000-PCA-02 (1 x 155) active\n",
      "    Found the data of interest:\n",
      "        t =    -300.00 ...     700.00 ms\n",
      "        0 CTF compensation matrices available\n",
      "Not setting metadata\n",
      "150 matching events found\n",
      "No baseline correction applied\n",
      "Created an SSP operator (subspace dimension = 2)\n",
      "2 projection items activated\n",
      "Dropped 9 epochs: 0, 9, 11, 15, 24, 28, 29, 42, 45\n",
      "Dropped 0 epochs: \n",
      "Dropped 13 epochs: 0, 3, 8, 17, 18, 21, 25, 31, 33, 36, 42, 45, 48\n",
      "Dropped 13 epochs: 1, 2, 4, 6, 9, 10, 12, 13, 22, 39, 42, 45, 49\n",
      "Setting up low-pass filter at 40 Hz\n",
      "\n",
      "FIR filter parameters\n",
      "---------------------\n",
      "Designing a one-pass, zero-phase, non-causal lowpass filter:\n",
      "- Windowed time-domain design (firwin) method\n",
      "- Hamming window with 0.0194 passband ripple and 53 dB stopband attenuation\n",
      "- Upper passband edge: 40.00 Hz\n",
      "- Upper transition bandwidth: 10.00 Hz (-6 dB cutoff frequency: 45.00 Hz)\n",
      "- Filter length: 331 samples (0.331 s)\n",
      "\n",
      "Setting up low-pass filter at 40 Hz\n",
      "\n",
      "FIR filter parameters\n",
      "---------------------\n",
      "Designing a one-pass, zero-phase, non-causal lowpass filter:\n",
      "- Windowed time-domain design (firwin) method\n",
      "- Hamming window with 0.0194 passband ripple and 53 dB stopband attenuation\n",
      "- Upper passband edge: 40.00 Hz\n",
      "- Upper transition bandwidth: 10.00 Hz (-6 dB cutoff frequency: 45.00 Hz)\n",
      "- Filter length: 331 samples (0.331 s)\n",
      "\n",
      "Setting up low-pass filter at 40 Hz\n",
      "\n",
      "FIR filter parameters\n"
     ]
    },
    {
     "name": "stderr",
     "output_type": "stream",
     "text": [
      "[Parallel(n_jobs=1)]: Done  17 tasks      | elapsed:    0.0s\n",
      "[Parallel(n_jobs=1)]: Done  71 tasks      | elapsed:    0.0s\n",
      "[Parallel(n_jobs=1)]: Done  17 tasks      | elapsed:    0.0s\n",
      "[Parallel(n_jobs=1)]: Done  71 tasks      | elapsed:    0.0s\n"
     ]
    },
    {
     "name": "stdout",
     "output_type": "stream",
     "text": [
      "---------------------\n",
      "Designing a one-pass, zero-phase, non-causal lowpass filter:\n",
      "- Windowed time-domain design (firwin) method\n",
      "- Hamming window with 0.0194 passband ripple and 53 dB stopband attenuation\n",
      "- Upper passband edge: 40.00 Hz\n",
      "- Upper transition bandwidth: 10.00 Hz (-6 dB cutoff frequency: 45.00 Hz)\n",
      "- Filter length: 331 samples (0.331 s)\n",
      "\n",
      "Setting up low-pass filter at 40 Hz\n",
      "\n",
      "FIR filter parameters\n",
      "---------------------\n",
      "Designing a one-pass, zero-phase, non-causal lowpass filter:\n",
      "- Windowed time-domain design (firwin) method\n",
      "- Hamming window with 0.0194 passband ripple and 53 dB stopband attenuation\n",
      "- Upper passband edge: 40.00 Hz\n",
      "- Upper transition bandwidth: 10.00 Hz (-6 dB cutoff frequency: 45.00 Hz)\n",
      "- Filter length: 331 samples (0.331 s)\n",
      "\n",
      "Reading /Users/admin/Box Sync/Starling/Experiment1/MEG_data/R3273/R3273_prod_TEST-epo.fif ...\n",
      "    Read a total of 2 projection items:\n",
      "        axial-Raw-0.000-120.000-PCA-01 (1 x 155) active\n",
      "        axial-Raw-0.000-120.000-PCA-02 (1 x 155) active\n",
      "    Found the data of interest:\n"
     ]
    },
    {
     "name": "stderr",
     "output_type": "stream",
     "text": [
      "[Parallel(n_jobs=1)]: Done  17 tasks      | elapsed:    0.0s\n",
      "[Parallel(n_jobs=1)]: Done  71 tasks      | elapsed:    0.0s\n",
      "[Parallel(n_jobs=1)]: Done  17 tasks      | elapsed:    0.0s\n",
      "[Parallel(n_jobs=1)]: Done  71 tasks      | elapsed:    0.0s\n"
     ]
    },
    {
     "name": "stdout",
     "output_type": "stream",
     "text": [
      "        t =    -300.00 ...     700.00 ms\n",
      "        0 CTF compensation matrices available\n",
      "Not setting metadata\n",
      "117 matching events found\n",
      "No baseline correction applied\n",
      "Created an SSP operator (subspace dimension = 2)\n",
      "2 projection items activated\n",
      "Reading /Users/admin/Box Sync/Starling/Experiment1/MEG_data/R3273/R3273_comp_TEST-epo.fif ...\n",
      "    Read a total of 2 projection items:\n",
      "        axial-Raw-0.000-120.000-PCA-01 (1 x 155) active\n",
      "        axial-Raw-0.000-120.000-PCA-02 (1 x 155) active\n",
      "    Found the data of interest:\n",
      "        t =    -300.00 ...     700.00 ms\n",
      "        0 CTF compensation matrices available\n",
      "Not setting metadata\n",
      "150 matching events found\n",
      "No baseline correction applied\n",
      "Created an SSP operator (subspace dimension = 2)\n",
      "2 projection items activated\n",
      "Dropped 2 epochs: 27, 32\n",
      "Dropped 0 epochs: \n",
      "Dropped 9 epochs: 8, 14, 16, 17, 21, 24, 34, 45, 48\n",
      "Dropped 9 epochs: 7, 8, 10, 11, 13, 22, 29, 38, 39\n",
      "Setting up low-pass filter at 40 Hz\n",
      "\n",
      "FIR filter parameters\n",
      "---------------------\n",
      "Designing a one-pass, zero-phase, non-causal lowpass filter:\n",
      "- Windowed time-domain design (firwin) method\n",
      "- Hamming window with 0.0194 passband ripple and 53 dB stopband attenuation\n",
      "- Upper passband edge: 40.00 Hz\n",
      "- Upper transition bandwidth: 10.00 Hz (-6 dB cutoff frequency: 45.00 Hz)\n",
      "- Filter length: 331 samples (0.331 s)\n",
      "\n",
      "Setting up low-pass filter at 40 Hz\n",
      "\n",
      "FIR filter parameters\n",
      "---------------------\n",
      "Designing a one-pass, zero-phase, non-causal lowpass filter:\n",
      "- Windowed time-domain design (firwin) method\n",
      "- Hamming window with 0.0194 passband ripple and 53 dB stopband attenuation\n",
      "- Upper passband edge: 40.00 Hz\n",
      "- Upper transition bandwidth: 10.00 Hz (-6 dB cutoff frequency: 45.00 Hz)\n",
      "- Filter length: 331 samples (0.331 s)\n",
      "\n"
     ]
    },
    {
     "name": "stderr",
     "output_type": "stream",
     "text": [
      "[Parallel(n_jobs=1)]: Done  17 tasks      | elapsed:    0.0s\n",
      "[Parallel(n_jobs=1)]: Done  71 tasks      | elapsed:    0.0s\n",
      "[Parallel(n_jobs=1)]: Done  17 tasks      | elapsed:    0.0s\n",
      "[Parallel(n_jobs=1)]: Done  71 tasks      | elapsed:    0.0s\n"
     ]
    },
    {
     "name": "stdout",
     "output_type": "stream",
     "text": [
      "Setting up low-pass filter at 40 Hz\n",
      "\n",
      "FIR filter parameters\n",
      "---------------------\n",
      "Designing a one-pass, zero-phase, non-causal lowpass filter:\n",
      "- Windowed time-domain design (firwin) method\n",
      "- Hamming window with 0.0194 passband ripple and 53 dB stopband attenuation\n",
      "- Upper passband edge: 40.00 Hz\n",
      "- Upper transition bandwidth: 10.00 Hz (-6 dB cutoff frequency: 45.00 Hz)\n",
      "- Filter length: 331 samples (0.331 s)\n",
      "\n",
      "Setting up low-pass filter at 40 Hz\n",
      "\n",
      "FIR filter parameters\n",
      "---------------------\n",
      "Designing a one-pass, zero-phase, non-causal lowpass filter:\n",
      "- Windowed time-domain design (firwin) method\n",
      "- Hamming window with 0.0194 passband ripple and 53 dB stopband attenuation\n",
      "- Upper passband edge: 40.00 Hz\n",
      "- Upper transition bandwidth: 10.00 Hz (-6 dB cutoff frequency: 45.00 Hz)\n",
      "- Filter length: 331 samples (0.331 s)\n",
      "\n",
      "Reading /Users/admin/Box Sync/Starling/Experiment1/MEG_data/R3275/R3275_prod_TEST-epo.fif ...\n"
     ]
    },
    {
     "name": "stderr",
     "output_type": "stream",
     "text": [
      "[Parallel(n_jobs=1)]: Done  17 tasks      | elapsed:    0.0s\n",
      "[Parallel(n_jobs=1)]: Done  71 tasks      | elapsed:    0.0s\n",
      "[Parallel(n_jobs=1)]: Done  17 tasks      | elapsed:    0.0s\n",
      "[Parallel(n_jobs=1)]: Done  71 tasks      | elapsed:    0.0s\n"
     ]
    },
    {
     "name": "stdout",
     "output_type": "stream",
     "text": [
      "    Read a total of 2 projection items:\n",
      "        axial-Raw-0.000-120.000-PCA-01 (1 x 156) active\n",
      "        axial-Raw-0.000-120.000-PCA-02 (1 x 156) active\n",
      "    Found the data of interest:\n",
      "        t =    -300.00 ...     700.00 ms\n",
      "        0 CTF compensation matrices available\n",
      "Not setting metadata\n",
      "127 matching events found\n",
      "No baseline correction applied\n",
      "Created an SSP operator (subspace dimension = 2)\n",
      "2 projection items activated\n",
      "Reading /Users/admin/Box Sync/Starling/Experiment1/MEG_data/R3275/R3275_comp_TEST-epo.fif ...\n",
      "    Read a total of 2 projection items:\n",
      "        axial-Raw-0.000-120.000-PCA-01 (1 x 155) active\n",
      "        axial-Raw-0.000-120.000-PCA-02 (1 x 155) active\n",
      "    Found the data of interest:\n",
      "        t =    -300.00 ...     700.00 ms\n",
      "        0 CTF compensation matrices available\n",
      "Not setting metadata\n",
      "150 matching events found\n",
      "No baseline correction applied\n",
      "Created an SSP operator (subspace dimension = 2)\n",
      "2 projection items activated\n",
      "Dropped 0 epochs: \n",
      "Dropped 5 epochs: 8, 12, 15, 16, 43\n",
      "Dropped 9 epochs: 3, 8, 9, 10, 11, 16, 18, 24, 48\n",
      "Dropped 9 epochs: 11, 12, 14, 15, 16, 25, 26, 28, 32\n",
      "Setting up low-pass filter at 40 Hz\n",
      "\n",
      "FIR filter parameters\n",
      "---------------------\n",
      "Designing a one-pass, zero-phase, non-causal lowpass filter:\n",
      "- Windowed time-domain design (firwin) method\n",
      "- Hamming window with 0.0194 passband ripple and 53 dB stopband attenuation\n",
      "- Upper passband edge: 40.00 Hz\n",
      "- Upper transition bandwidth: 10.00 Hz (-6 dB cutoff frequency: 45.00 Hz)\n",
      "- Filter length: 331 samples (0.331 s)\n",
      "\n",
      "Setting up low-pass filter at 40 Hz\n",
      "\n",
      "FIR filter parameters\n",
      "---------------------\n",
      "Designing a one-pass, zero-phase, non-causal lowpass filter:\n",
      "- Windowed time-domain design (firwin) method\n",
      "- Hamming window with 0.0194 passband ripple and 53 dB stopband attenuation\n",
      "- Upper passband edge: 40.00 Hz\n",
      "- Upper transition bandwidth: 10.00 Hz (-6 dB cutoff frequency: 45.00 Hz)\n",
      "- Filter length: 331 samples (0.331 s)\n",
      "\n",
      "Setting up low-pass filter at 40 Hz\n",
      "\n",
      "FIR filter parameters\n",
      "---------------------\n",
      "Designing a one-pass, zero-phase, non-causal lowpass filter:\n",
      "- Windowed time-domain design (firwin) method\n",
      "- Hamming window with 0.0194 passband ripple and 53 dB stopband attenuation\n",
      "- Upper passband edge: 40.00 Hz\n",
      "- Upper transition bandwidth: 10.00 Hz (-6 dB cutoff frequency: 45.00 Hz)\n",
      "- Filter length: 331 samples (0.331 s)\n",
      "\n"
     ]
    },
    {
     "name": "stderr",
     "output_type": "stream",
     "text": [
      "[Parallel(n_jobs=1)]: Done  17 tasks      | elapsed:    0.0s\n",
      "[Parallel(n_jobs=1)]: Done  71 tasks      | elapsed:    0.0s\n",
      "[Parallel(n_jobs=1)]: Done  17 tasks      | elapsed:    0.0s\n",
      "[Parallel(n_jobs=1)]: Done  71 tasks      | elapsed:    0.0s\n",
      "[Parallel(n_jobs=1)]: Done  17 tasks      | elapsed:    0.0s\n",
      "[Parallel(n_jobs=1)]: Done  71 tasks      | elapsed:    0.0s\n"
     ]
    },
    {
     "name": "stdout",
     "output_type": "stream",
     "text": [
      "Setting up low-pass filter at 40 Hz\n",
      "\n",
      "FIR filter parameters\n",
      "---------------------\n",
      "Designing a one-pass, zero-phase, non-causal lowpass filter:\n",
      "- Windowed time-domain design (firwin) method\n",
      "- Hamming window with 0.0194 passband ripple and 53 dB stopband attenuation\n",
      "- Upper passband edge: 40.00 Hz\n",
      "- Upper transition bandwidth: 10.00 Hz (-6 dB cutoff frequency: 45.00 Hz)\n",
      "- Filter length: 331 samples (0.331 s)\n",
      "\n",
      "Reading /Users/admin/Box Sync/Starling/Experiment1/MEG_data/R3277/R3277_prod_TEST-epo.fif ...\n",
      "    Read a total of 2 projection items:\n",
      "        axial-Raw-0.000-120.000-PCA-01 (1 x 155) active\n",
      "        axial-Raw-0.000-120.000-PCA-02 (1 x 155) active\n",
      "    Found the data of interest:\n",
      "        t =    -300.00 ...     700.00 ms\n",
      "        0 CTF compensation matrices available\n"
     ]
    },
    {
     "name": "stderr",
     "output_type": "stream",
     "text": [
      "[Parallel(n_jobs=1)]: Done  17 tasks      | elapsed:    0.0s\n",
      "[Parallel(n_jobs=1)]: Done  71 tasks      | elapsed:    0.0s\n"
     ]
    },
    {
     "name": "stdout",
     "output_type": "stream",
     "text": [
      "Not setting metadata\n",
      "117 matching events found\n",
      "No baseline correction applied\n",
      "Created an SSP operator (subspace dimension = 2)\n",
      "2 projection items activated\n",
      "Reading /Users/admin/Box Sync/Starling/Experiment1/MEG_data/R3277/R3277_comp_TEST-epo.fif ...\n",
      "    Read a total of 2 projection items:\n",
      "        axial-Raw-0.000-120.000-PCA-01 (1 x 155) active\n",
      "        axial-Raw-0.000-120.000-PCA-02 (1 x 155) active\n",
      "    Found the data of interest:\n",
      "        t =    -300.00 ...     700.00 ms\n",
      "        0 CTF compensation matrices available\n",
      "Not setting metadata\n",
      "150 matching events found\n",
      "No baseline correction applied\n",
      "Created an SSP operator (subspace dimension = 2)\n",
      "2 projection items activated\n",
      "Dropped 6 epochs: 5, 6, 12, 14, 40, 42\n",
      "Dropped 0 epochs: \n",
      "Dropped 13 epochs: 0, 6, 10, 11, 12, 15, 22, 24, 25, 31, 36, 44, 49\n",
      "Dropped 13 epochs: 1, 9, 18, 20, 25, 27, 34, 35, 36, 37, 41, 44, 45\n",
      "Setting up low-pass filter at 40 Hz\n",
      "\n",
      "FIR filter parameters\n",
      "---------------------\n",
      "Designing a one-pass, zero-phase, non-causal lowpass filter:\n",
      "- Windowed time-domain design (firwin) method\n",
      "- Hamming window with 0.0194 passband ripple and 53 dB stopband attenuation\n",
      "- Upper passband edge: 40.00 Hz\n",
      "- Upper transition bandwidth: 10.00 Hz (-6 dB cutoff frequency: 45.00 Hz)\n",
      "- Filter length: 331 samples (0.331 s)\n",
      "\n",
      "Setting up low-pass filter at 40 Hz\n",
      "\n",
      "FIR filter parameters\n",
      "---------------------\n",
      "Designing a one-pass, zero-phase, non-causal lowpass filter:\n",
      "- Windowed time-domain design (firwin) method\n",
      "- Hamming window with 0.0194 passband ripple and 53 dB stopband attenuation\n",
      "- Upper passband edge: 40.00 Hz\n",
      "- Upper transition bandwidth: 10.00 Hz (-6 dB cutoff frequency: 45.00 Hz)\n",
      "- Filter length: 331 samples (0.331 s)\n",
      "\n",
      "Setting up low-pass filter at 40 Hz\n",
      "\n",
      "FIR filter parameters\n",
      "---------------------\n",
      "Designing a one-pass, zero-phase, non-causal lowpass filter:\n",
      "- Windowed time-domain design (firwin) method\n",
      "- Hamming window with 0.0194 passband ripple and 53 dB stopband attenuation\n",
      "- Upper passband edge: 40.00 Hz\n",
      "- Upper transition bandwidth: 10.00 Hz (-6 dB cutoff frequency: 45.00 Hz)\n",
      "- Filter length: 331 samples (0.331 s)\n",
      "\n"
     ]
    },
    {
     "name": "stderr",
     "output_type": "stream",
     "text": [
      "[Parallel(n_jobs=1)]: Done  17 tasks      | elapsed:    0.0s\n",
      "[Parallel(n_jobs=1)]: Done  71 tasks      | elapsed:    0.0s\n",
      "[Parallel(n_jobs=1)]: Done  17 tasks      | elapsed:    0.0s\n",
      "[Parallel(n_jobs=1)]: Done  71 tasks      | elapsed:    0.0s\n",
      "[Parallel(n_jobs=1)]: Done  17 tasks      | elapsed:    0.0s\n",
      "[Parallel(n_jobs=1)]: Done  71 tasks      | elapsed:    0.0s\n"
     ]
    },
    {
     "name": "stdout",
     "output_type": "stream",
     "text": [
      "Setting up low-pass filter at 40 Hz\n",
      "\n",
      "FIR filter parameters\n",
      "---------------------\n",
      "Designing a one-pass, zero-phase, non-causal lowpass filter:\n",
      "- Windowed time-domain design (firwin) method\n",
      "- Hamming window with 0.0194 passband ripple and 53 dB stopband attenuation\n",
      "- Upper passband edge: 40.00 Hz\n",
      "- Upper transition bandwidth: 10.00 Hz (-6 dB cutoff frequency: 45.00 Hz)\n",
      "- Filter length: 331 samples (0.331 s)\n",
      "\n",
      "Reading /Users/admin/Box Sync/Starling/Experiment1/MEG_data/R3279/R3279_prod_TEST-epo.fif ...\n",
      "    Read a total of 2 projection items:\n",
      "        axial-Raw-0.000-120.000-PCA-01 (1 x 156) active\n",
      "        axial-Raw-0.000-120.000-PCA-02 (1 x 156) active\n",
      "    Found the data of interest:\n",
      "        t =    -300.00 ...     700.00 ms\n",
      "        0 CTF compensation matrices available\n"
     ]
    },
    {
     "name": "stderr",
     "output_type": "stream",
     "text": [
      "[Parallel(n_jobs=1)]: Done  17 tasks      | elapsed:    0.0s\n",
      "[Parallel(n_jobs=1)]: Done  71 tasks      | elapsed:    0.0s\n"
     ]
    },
    {
     "name": "stdout",
     "output_type": "stream",
     "text": [
      "Not setting metadata\n",
      "120 matching events found\n",
      "No baseline correction applied\n",
      "Created an SSP operator (subspace dimension = 2)\n",
      "2 projection items activated\n",
      "Reading /Users/admin/Box Sync/Starling/Experiment1/MEG_data/R3279/R3279_comp_TEST-epo.fif ...\n",
      "    Read a total of 2 projection items:\n",
      "        axial-Raw-0.000-120.000-PCA-01 (1 x 155) active\n",
      "        axial-Raw-0.000-120.000-PCA-02 (1 x 155) active\n",
      "    Found the data of interest:\n",
      "        t =    -300.00 ...     700.00 ms\n",
      "        0 CTF compensation matrices available\n",
      "Not setting metadata\n",
      "150 matching events found\n",
      "No baseline correction applied\n",
      "Created an SSP operator (subspace dimension = 2)\n",
      "2 projection items activated\n",
      "Dropped 2 epochs: 13, 15\n",
      "Dropped 0 epochs: \n",
      "Dropped 9 epochs: 21, 22, 24, 30, 34, 38, 39, 41, 48\n",
      "Dropped 9 epochs: 0, 10, 17, 24, 33, 36, 37, 39, 45\n",
      "Setting up low-pass filter at 40 Hz\n",
      "\n",
      "FIR filter parameters\n",
      "---------------------\n",
      "Designing a one-pass, zero-phase, non-causal lowpass filter:\n",
      "- Windowed time-domain design (firwin) method\n",
      "- Hamming window with 0.0194 passband ripple and 53 dB stopband attenuation\n",
      "- Upper passband edge: 40.00 Hz\n",
      "- Upper transition bandwidth: 10.00 Hz (-6 dB cutoff frequency: 45.00 Hz)\n",
      "- Filter length: 331 samples (0.331 s)\n",
      "\n",
      "Setting up low-pass filter at 40 Hz\n",
      "\n",
      "FIR filter parameters\n",
      "---------------------\n",
      "Designing a one-pass, zero-phase, non-causal lowpass filter:\n",
      "- Windowed time-domain design (firwin) method\n",
      "- Hamming window with 0.0194 passband ripple and 53 dB stopband attenuation\n",
      "- Upper passband edge: 40.00 Hz\n",
      "- Upper transition bandwidth: 10.00 Hz (-6 dB cutoff frequency: 45.00 Hz)\n",
      "- Filter length: 331 samples (0.331 s)\n",
      "\n"
     ]
    },
    {
     "name": "stderr",
     "output_type": "stream",
     "text": [
      "[Parallel(n_jobs=1)]: Done  17 tasks      | elapsed:    0.0s\n",
      "[Parallel(n_jobs=1)]: Done  71 tasks      | elapsed:    0.0s\n",
      "[Parallel(n_jobs=1)]: Done  17 tasks      | elapsed:    0.0s\n",
      "[Parallel(n_jobs=1)]: Done  71 tasks      | elapsed:    0.0s\n"
     ]
    },
    {
     "name": "stdout",
     "output_type": "stream",
     "text": [
      "Setting up low-pass filter at 40 Hz\n",
      "\n",
      "FIR filter parameters\n",
      "---------------------\n",
      "Designing a one-pass, zero-phase, non-causal lowpass filter:\n",
      "- Windowed time-domain design (firwin) method\n",
      "- Hamming window with 0.0194 passband ripple and 53 dB stopband attenuation\n",
      "- Upper passband edge: 40.00 Hz\n",
      "- Upper transition bandwidth: 10.00 Hz (-6 dB cutoff frequency: 45.00 Hz)\n",
      "- Filter length: 331 samples (0.331 s)\n",
      "\n",
      "Setting up low-pass filter at 40 Hz\n",
      "\n",
      "FIR filter parameters\n",
      "---------------------\n",
      "Designing a one-pass, zero-phase, non-causal lowpass filter:\n",
      "- Windowed time-domain design (firwin) method\n",
      "- Hamming window with 0.0194 passband ripple and 53 dB stopband attenuation\n",
      "- Upper passband edge: 40.00 Hz\n",
      "- Upper transition bandwidth: 10.00 Hz (-6 dB cutoff frequency: 45.00 Hz)\n"
     ]
    },
    {
     "name": "stderr",
     "output_type": "stream",
     "text": [
      "[Parallel(n_jobs=1)]: Done  17 tasks      | elapsed:    0.1s\n",
      "[Parallel(n_jobs=1)]: Done  71 tasks      | elapsed:    0.2s\n"
     ]
    },
    {
     "name": "stdout",
     "output_type": "stream",
     "text": [
      "- Filter length: 331 samples (0.331 s)\n",
      "\n",
      "Reading /Users/admin/Box Sync/Starling/Experiment1/MEG_data/R3285/R3285_prod_TEST-epo.fif ...\n",
      "    Read a total of 2 projection items:\n",
      "        axial-Raw-0.000-120.000-PCA-01 (1 x 155) active\n",
      "        axial-Raw-0.000-120.000-PCA-02 (1 x 155) active\n",
      "    Found the data of interest:\n",
      "        t =    -300.00 ...     700.00 ms\n",
      "        0 CTF compensation matrices available\n"
     ]
    },
    {
     "name": "stderr",
     "output_type": "stream",
     "text": [
      "[Parallel(n_jobs=1)]: Done  17 tasks      | elapsed:    0.0s\n",
      "[Parallel(n_jobs=1)]: Done  71 tasks      | elapsed:    0.0s\n"
     ]
    },
    {
     "name": "stdout",
     "output_type": "stream",
     "text": [
      "Not setting metadata\n",
      "107 matching events found\n",
      "No baseline correction applied\n",
      "Created an SSP operator (subspace dimension = 2)\n",
      "2 projection items activated\n",
      "Reading /Users/admin/Box Sync/Starling/Experiment1/MEG_data/R3285/R3285_comp_TEST-epo.fif ...\n",
      "    Read a total of 2 projection items:\n",
      "        axial-Raw-0.000-120.000-PCA-01 (1 x 155) active\n",
      "        axial-Raw-0.000-120.000-PCA-02 (1 x 155) active\n",
      "    Found the data of interest:\n",
      "        t =    -300.00 ...     700.00 ms\n",
      "        0 CTF compensation matrices available\n",
      "Not setting metadata\n",
      "150 matching events found\n",
      "No baseline correction applied\n",
      "Created an SSP operator (subspace dimension = 2)\n",
      "2 projection items activated\n",
      "Dropped 25 epochs: 0, 1, 2, 4, 7, 8, 10, 11, 14, 15, 16, 18, 19, 20, 23, 24, 25, 27, 31, 32, 34, 35, 40, 45, 46\n",
      "Dropped 0 epochs: \n",
      "Dropped 27 epochs: 0, 8, 10, 12, 13, 15, 20, 21, 22, 23, 25, 26, 28, 30, 31, 34, 35, 37, 39, 40, 41, 42, 44, 45, 47, 48, 49\n",
      "Dropped 27 epochs: 0, 5, 6, 7, 8, 9, 13, 14, 16, 17, 18, 19, 21, 22, 25, 26, 31, 34, 35, 36, 38, 40, 42, 45, 46, 47, 49\n",
      "Setting up low-pass filter at 40 Hz\n",
      "\n",
      "FIR filter parameters\n",
      "---------------------\n",
      "Designing a one-pass, zero-phase, non-causal lowpass filter:\n",
      "- Windowed time-domain design (firwin) method\n",
      "- Hamming window with 0.0194 passband ripple and 53 dB stopband attenuation\n",
      "- Upper passband edge: 40.00 Hz\n",
      "- Upper transition bandwidth: 10.00 Hz (-6 dB cutoff frequency: 45.00 Hz)\n",
      "- Filter length: 331 samples (0.331 s)\n",
      "\n",
      "Setting up low-pass filter at 40 Hz\n",
      "\n",
      "FIR filter parameters\n",
      "---------------------\n",
      "Designing a one-pass, zero-phase, non-causal lowpass filter:\n",
      "- Windowed time-domain design (firwin) method\n",
      "- Hamming window with 0.0194 passband ripple and 53 dB stopband attenuation\n",
      "- Upper passband edge: 40.00 Hz\n",
      "- Upper transition bandwidth: 10.00 Hz (-6 dB cutoff frequency: 45.00 Hz)\n",
      "- Filter length: 331 samples (0.331 s)\n",
      "\n"
     ]
    },
    {
     "name": "stderr",
     "output_type": "stream",
     "text": [
      "[Parallel(n_jobs=1)]: Done  17 tasks      | elapsed:    0.0s\n",
      "[Parallel(n_jobs=1)]: Done  71 tasks      | elapsed:    0.0s\n",
      "[Parallel(n_jobs=1)]: Done  17 tasks      | elapsed:    0.0s\n",
      "[Parallel(n_jobs=1)]: Done  71 tasks      | elapsed:    0.0s\n"
     ]
    },
    {
     "name": "stdout",
     "output_type": "stream",
     "text": [
      "Setting up low-pass filter at 40 Hz\n",
      "\n",
      "FIR filter parameters\n",
      "---------------------\n",
      "Designing a one-pass, zero-phase, non-causal lowpass filter:\n",
      "- Windowed time-domain design (firwin) method\n",
      "- Hamming window with 0.0194 passband ripple and 53 dB stopband attenuation\n",
      "- Upper passband edge: 40.00 Hz\n",
      "- Upper transition bandwidth: 10.00 Hz (-6 dB cutoff frequency: 45.00 Hz)\n",
      "- Filter length: 331 samples (0.331 s)\n",
      "\n",
      "Setting up low-pass filter at 40 Hz\n",
      "\n",
      "FIR filter parameters\n",
      "---------------------\n",
      "Designing a one-pass, zero-phase, non-causal lowpass filter:\n",
      "- Windowed time-domain design (firwin) method\n",
      "- Hamming window with 0.0194 passband ripple and 53 dB stopband attenuation\n",
      "- Upper passband edge: 40.00 Hz\n",
      "- Upper transition bandwidth: 10.00 Hz (-6 dB cutoff frequency: 45.00 Hz)\n",
      "- Filter length: 331 samples (0.331 s)\n",
      "\n"
     ]
    },
    {
     "name": "stderr",
     "output_type": "stream",
     "text": [
      "[Parallel(n_jobs=1)]: Done  17 tasks      | elapsed:    0.0s\n",
      "[Parallel(n_jobs=1)]: Done  71 tasks      | elapsed:    0.0s\n"
     ]
    },
    {
     "name": "stdout",
     "output_type": "stream",
     "text": [
      "Reading /Users/admin/Box Sync/Starling/Experiment1/MEG_data/R3286/R3286_prod_TEST-epo.fif ...\n",
      "    Read a total of 2 projection items:\n",
      "        axial-Raw-0.000-120.000-PCA-01 (1 x 156) active\n"
     ]
    },
    {
     "name": "stderr",
     "output_type": "stream",
     "text": [
      "[Parallel(n_jobs=1)]: Done  17 tasks      | elapsed:    0.0s\n",
      "[Parallel(n_jobs=1)]: Done  71 tasks      | elapsed:    0.1s\n"
     ]
    },
    {
     "name": "stdout",
     "output_type": "stream",
     "text": [
      "        axial-Raw-0.000-120.000-PCA-02 (1 x 156) active\n",
      "    Found the data of interest:\n",
      "        t =    -300.00 ...     700.00 ms\n",
      "        0 CTF compensation matrices available\n",
      "Not setting metadata\n",
      "118 matching events found\n",
      "No baseline correction applied\n",
      "Created an SSP operator (subspace dimension = 2)\n",
      "2 projection items activated\n",
      "Reading /Users/admin/Box Sync/Starling/Experiment1/MEG_data/R3286/R3286_comp_TEST-epo.fif ...\n",
      "    Read a total of 2 projection items:\n",
      "        axial-Raw-0.000-120.000-PCA-01 (1 x 155) active\n",
      "        axial-Raw-0.000-120.000-PCA-02 (1 x 155) active\n",
      "    Found the data of interest:\n",
      "        t =    -300.00 ...     700.00 ms\n",
      "        0 CTF compensation matrices available\n",
      "Not setting metadata\n",
      "150 matching events found\n",
      "No baseline correction applied\n",
      "Created an SSP operator (subspace dimension = 2)\n",
      "2 projection items activated\n",
      "Dropped 16 epochs: 4, 6, 7, 13, 22, 24, 29, 30, 32, 33, 34, 36, 38, 43, 45, 47\n",
      "Dropped 0 epochs: \n",
      "Dropped 17 epochs: 1, 9, 10, 11, 13, 16, 20, 21, 23, 24, 25, 27, 29, 36, 38, 40, 45\n",
      "Dropped 17 epochs: 3, 6, 15, 17, 19, 23, 25, 26, 32, 34, 35, 36, 37, 41, 46, 47, 48\n",
      "Setting up low-pass filter at 40 Hz\n",
      "\n",
      "FIR filter parameters\n",
      "---------------------\n",
      "Designing a one-pass, zero-phase, non-causal lowpass filter:\n",
      "- Windowed time-domain design (firwin) method\n",
      "- Hamming window with 0.0194 passband ripple and 53 dB stopband attenuation\n",
      "- Upper passband edge: 40.00 Hz\n",
      "- Upper transition bandwidth: 10.00 Hz (-6 dB cutoff frequency: 45.00 Hz)\n",
      "- Filter length: 331 samples (0.331 s)\n",
      "\n",
      "Setting up low-pass filter at 40 Hz\n",
      "\n",
      "FIR filter parameters\n",
      "---------------------\n",
      "Designing a one-pass, zero-phase, non-causal lowpass filter:\n",
      "- Windowed time-domain design (firwin) method\n",
      "- Hamming window with 0.0194 passband ripple and 53 dB stopband attenuation\n",
      "- Upper passband edge: 40.00 Hz\n",
      "- Upper transition bandwidth: 10.00 Hz (-6 dB cutoff frequency: 45.00 Hz)\n",
      "- Filter length: 331 samples (0.331 s)\n",
      "\n"
     ]
    },
    {
     "name": "stderr",
     "output_type": "stream",
     "text": [
      "[Parallel(n_jobs=1)]: Done  17 tasks      | elapsed:    0.0s\n",
      "[Parallel(n_jobs=1)]: Done  71 tasks      | elapsed:    0.1s\n",
      "[Parallel(n_jobs=1)]: Done  17 tasks      | elapsed:    0.0s\n"
     ]
    },
    {
     "name": "stdout",
     "output_type": "stream",
     "text": [
      "Setting up low-pass filter at 40 Hz\n",
      "\n",
      "FIR filter parameters\n",
      "---------------------\n",
      "Designing a one-pass, zero-phase, non-causal lowpass filter:\n",
      "- Windowed time-domain design (firwin) method\n",
      "- Hamming window with 0.0194 passband ripple and 53 dB stopband attenuation\n",
      "- Upper passband edge: 40.00 Hz\n",
      "- Upper transition bandwidth: 10.00 Hz (-6 dB cutoff frequency: 45.00 Hz)\n",
      "- Filter length: 331 samples (0.331 s)\n",
      "\n"
     ]
    },
    {
     "name": "stderr",
     "output_type": "stream",
     "text": [
      "[Parallel(n_jobs=1)]: Done  71 tasks      | elapsed:    0.1s\n",
      "[Parallel(n_jobs=1)]: Done  17 tasks      | elapsed:    0.0s\n",
      "[Parallel(n_jobs=1)]: Done  71 tasks      | elapsed:    0.0s\n"
     ]
    },
    {
     "name": "stdout",
     "output_type": "stream",
     "text": [
      "Setting up low-pass filter at 40 Hz\n",
      "\n",
      "FIR filter parameters\n",
      "---------------------\n",
      "Designing a one-pass, zero-phase, non-causal lowpass filter:\n",
      "- Windowed time-domain design (firwin) method\n",
      "- Hamming window with 0.0194 passband ripple and 53 dB stopband attenuation\n",
      "- Upper passband edge: 40.00 Hz\n",
      "- Upper transition bandwidth: 10.00 Hz (-6 dB cutoff frequency: 45.00 Hz)\n",
      "- Filter length: 331 samples (0.331 s)\n",
      "\n",
      "Reading /Users/admin/Box Sync/Starling/Experiment1/MEG_data/R3289/R3289_prod_TEST-epo.fif ...\n"
     ]
    },
    {
     "name": "stderr",
     "output_type": "stream",
     "text": [
      "[Parallel(n_jobs=1)]: Done  17 tasks      | elapsed:    0.0s\n",
      "[Parallel(n_jobs=1)]: Done  71 tasks      | elapsed:    0.0s\n"
     ]
    },
    {
     "name": "stdout",
     "output_type": "stream",
     "text": [
      "    Read a total of 2 projection items:\n",
      "        axial-Raw-0.000-120.000-PCA-01 (1 x 156) active\n",
      "        axial-Raw-0.000-120.000-PCA-02 (1 x 156) active\n",
      "    Found the data of interest:\n",
      "        t =    -300.00 ...     700.00 ms\n",
      "        0 CTF compensation matrices available\n",
      "Not setting metadata\n",
      "120 matching events found\n",
      "No baseline correction applied\n",
      "Created an SSP operator (subspace dimension = 2)\n",
      "2 projection items activated\n",
      "Reading /Users/admin/Box Sync/Starling/Experiment1/MEG_data/R3289/R3289_comp_TEST-epo.fif ...\n",
      "    Read a total of 2 projection items:\n",
      "        axial-Raw-0.000-120.000-PCA-01 (1 x 155) active\n",
      "        axial-Raw-0.000-120.000-PCA-02 (1 x 155) active\n",
      "    Found the data of interest:\n",
      "        t =    -300.00 ...     700.00 ms\n",
      "        0 CTF compensation matrices available\n",
      "Not setting metadata\n",
      "150 matching events found\n",
      "No baseline correction applied\n",
      "Created an SSP operator (subspace dimension = 2)\n",
      "2 projection items activated\n",
      "Dropped 15 epochs: 2, 4, 9, 14, 17, 21, 22, 24, 29, 31, 33, 38, 44, 46, 47\n",
      "Dropped 0 epochs: \n",
      "Dropped 15 epochs: 1, 8, 11, 12, 13, 18, 21, 24, 25, 26, 28, 30, 32, 39, 41\n",
      "Dropped 15 epochs: 2, 5, 8, 16, 18, 20, 21, 23, 24, 30, 32, 34, 36, 45, 49\n",
      "Setting up low-pass filter at 40 Hz\n",
      "\n",
      "FIR filter parameters\n",
      "---------------------\n",
      "Designing a one-pass, zero-phase, non-causal lowpass filter:\n",
      "- Windowed time-domain design (firwin) method\n",
      "- Hamming window with 0.0194 passband ripple and 53 dB stopband attenuation\n",
      "- Upper passband edge: 40.00 Hz\n",
      "- Upper transition bandwidth: 10.00 Hz (-6 dB cutoff frequency: 45.00 Hz)\n",
      "- Filter length: 331 samples (0.331 s)\n",
      "\n",
      "Setting up low-pass filter at 40 Hz\n",
      "\n",
      "FIR filter parameters\n",
      "---------------------\n",
      "Designing a one-pass, zero-phase, non-causal lowpass filter:\n",
      "- Windowed time-domain design (firwin) method\n",
      "- Hamming window with 0.0194 passband ripple and 53 dB stopband attenuation\n",
      "- Upper passband edge: 40.00 Hz\n",
      "- Upper transition bandwidth: 10.00 Hz (-6 dB cutoff frequency: 45.00 Hz)\n",
      "- Filter length: 331 samples (0.331 s)\n",
      "\n"
     ]
    },
    {
     "name": "stderr",
     "output_type": "stream",
     "text": [
      "[Parallel(n_jobs=1)]: Done  17 tasks      | elapsed:    0.0s\n",
      "[Parallel(n_jobs=1)]: Done  71 tasks      | elapsed:    0.0s\n",
      "[Parallel(n_jobs=1)]: Done  17 tasks      | elapsed:    0.0s\n",
      "[Parallel(n_jobs=1)]: Done  71 tasks      | elapsed:    0.0s\n"
     ]
    },
    {
     "name": "stdout",
     "output_type": "stream",
     "text": [
      "Setting up low-pass filter at 40 Hz\n",
      "\n",
      "FIR filter parameters\n",
      "---------------------\n",
      "Designing a one-pass, zero-phase, non-causal lowpass filter:\n",
      "- Windowed time-domain design (firwin) method\n",
      "- Hamming window with 0.0194 passband ripple and 53 dB stopband attenuation\n",
      "- Upper passband edge: 40.00 Hz\n",
      "- Upper transition bandwidth: 10.00 Hz (-6 dB cutoff frequency: 45.00 Hz)\n",
      "- Filter length: 331 samples (0.331 s)\n",
      "\n",
      "Setting up low-pass filter at 40 Hz\n",
      "\n",
      "FIR filter parameters\n",
      "---------------------\n",
      "Designing a one-pass, zero-phase, non-causal lowpass filter:\n",
      "- Windowed time-domain design (firwin) method\n",
      "- Hamming window with 0.0194 passband ripple and 53 dB stopband attenuation\n",
      "- Upper passband edge: 40.00 Hz\n",
      "- Upper transition bandwidth: 10.00 Hz (-6 dB cutoff frequency: 45.00 Hz)\n",
      "- Filter length: 331 samples (0.331 s)\n",
      "\n",
      "Reading /Users/admin/Box Sync/Starling/Experiment1/MEG_data/R3290/R3290_prod_TEST-epo.fif ...\n"
     ]
    },
    {
     "name": "stderr",
     "output_type": "stream",
     "text": [
      "[Parallel(n_jobs=1)]: Done  17 tasks      | elapsed:    0.0s\n",
      "[Parallel(n_jobs=1)]: Done  71 tasks      | elapsed:    0.0s\n",
      "[Parallel(n_jobs=1)]: Done  17 tasks      | elapsed:    0.0s\n",
      "[Parallel(n_jobs=1)]: Done  71 tasks      | elapsed:    0.0s\n"
     ]
    },
    {
     "name": "stdout",
     "output_type": "stream",
     "text": [
      "    Read a total of 2 projection items:\n",
      "        axial-Raw-0.000-120.000-PCA-01 (1 x 156) active\n",
      "        axial-Raw-0.000-120.000-PCA-02 (1 x 156) active\n",
      "    Found the data of interest:\n",
      "        t =    -300.00 ...     700.00 ms\n",
      "        0 CTF compensation matrices available\n",
      "Not setting metadata\n",
      "113 matching events found\n",
      "No baseline correction applied\n",
      "Created an SSP operator (subspace dimension = 2)\n",
      "2 projection items activated\n",
      "Reading /Users/admin/Box Sync/Starling/Experiment1/MEG_data/R3290/R3290_comp_TEST-epo.fif ...\n",
      "    Read a total of 2 projection items:\n",
      "        axial-Raw-0.000-120.000-PCA-01 (1 x 155) active\n",
      "        axial-Raw-0.000-120.000-PCA-02 (1 x 155) active\n",
      "    Found the data of interest:\n",
      "        t =    -300.00 ...     700.00 ms\n",
      "        0 CTF compensation matrices available\n",
      "Not setting metadata\n",
      "150 matching events found\n",
      "No baseline correction applied\n",
      "Created an SSP operator (subspace dimension = 2)\n",
      "2 projection items activated\n",
      "Dropped 20 epochs: 0, 1, 4, 6, 8, 10, 14, 15, 18, 21, 23, 27, 28, 32, 34, 37, 42, 44, 46, 47\n",
      "Dropped 0 epochs: \n",
      "Dropped 22 epochs: 8, 10, 13, 15, 17, 19, 21, 22, 25, 26, 29, 31, 35, 36, 38, 39, 42, 43, 44, 47, 48, 49\n",
      "Dropped 22 epochs: 0, 1, 5, 8, 9, 10, 13, 20, 23, 26, 28, 30, 32, 36, 41, 42, 43, 44, 45, 47, 48, 49\n",
      "Setting up low-pass filter at 40 Hz\n",
      "\n",
      "FIR filter parameters\n",
      "---------------------\n",
      "Designing a one-pass, zero-phase, non-causal lowpass filter:\n",
      "- Windowed time-domain design (firwin) method\n",
      "- Hamming window with 0.0194 passband ripple and 53 dB stopband attenuation\n",
      "- Upper passband edge: 40.00 Hz\n",
      "- Upper transition bandwidth: 10.00 Hz (-6 dB cutoff frequency: 45.00 Hz)\n",
      "- Filter length: 331 samples (0.331 s)\n",
      "\n",
      "Setting up low-pass filter at 40 Hz\n",
      "\n",
      "FIR filter parameters\n",
      "---------------------\n",
      "Designing a one-pass, zero-phase, non-causal lowpass filter:\n",
      "- Windowed time-domain design (firwin) method\n",
      "- Hamming window with 0.0194 passband ripple and 53 dB stopband attenuation\n",
      "- Upper passband edge: 40.00 Hz\n",
      "- Upper transition bandwidth: 10.00 Hz (-6 dB cutoff frequency: 45.00 Hz)\n",
      "- Filter length: 331 samples (0.331 s)\n",
      "\n"
     ]
    },
    {
     "name": "stderr",
     "output_type": "stream",
     "text": [
      "[Parallel(n_jobs=1)]: Done  17 tasks      | elapsed:    0.0s\n",
      "[Parallel(n_jobs=1)]: Done  71 tasks      | elapsed:    0.0s\n",
      "[Parallel(n_jobs=1)]: Done  17 tasks      | elapsed:    0.0s\n",
      "[Parallel(n_jobs=1)]: Done  71 tasks      | elapsed:    0.0s\n"
     ]
    },
    {
     "name": "stdout",
     "output_type": "stream",
     "text": [
      "Setting up low-pass filter at 40 Hz\n",
      "\n",
      "FIR filter parameters\n",
      "---------------------\n",
      "Designing a one-pass, zero-phase, non-causal lowpass filter:\n",
      "- Windowed time-domain design (firwin) method\n",
      "- Hamming window with 0.0194 passband ripple and 53 dB stopband attenuation\n",
      "- Upper passband edge: 40.00 Hz\n",
      "- Upper transition bandwidth: 10.00 Hz (-6 dB cutoff frequency: 45.00 Hz)\n",
      "- Filter length: 331 samples (0.331 s)\n",
      "\n",
      "Setting up low-pass filter at 40 Hz\n",
      "\n",
      "FIR filter parameters\n",
      "---------------------\n",
      "Designing a one-pass, zero-phase, non-causal lowpass filter:\n",
      "- Windowed time-domain design (firwin) method\n",
      "- Hamming window with 0.0194 passband ripple and 53 dB stopband attenuation\n",
      "- Upper passband edge: 40.00 Hz\n",
      "- Upper transition bandwidth: 10.00 Hz (-6 dB cutoff frequency: 45.00 Hz)\n",
      "- Filter length: 331 samples (0.331 s)\n",
      "\n"
     ]
    },
    {
     "name": "stderr",
     "output_type": "stream",
     "text": [
      "[Parallel(n_jobs=1)]: Done  17 tasks      | elapsed:    0.0s\n",
      "[Parallel(n_jobs=1)]: Done  71 tasks      | elapsed:    0.0s\n",
      "[Parallel(n_jobs=1)]: Done  17 tasks      | elapsed:    0.0s\n",
      "[Parallel(n_jobs=1)]: Done  71 tasks      | elapsed:    0.0s\n"
     ]
    },
    {
     "name": "stdout",
     "output_type": "stream",
     "text": [
      "Identifying common channels ...\n",
      "Identifying common channels ...\n",
      "Identifying common channels ...\n",
      "Identifying common channels ...\n",
      "Reading adjacency matrix for KIT-UMD-4.\n"
     ]
    }
   ],
   "execution_count": 70
  },
  {
   "metadata": {
    "ExecuteTime": {
     "end_time": "2025-07-30T21:21:28.495886Z",
     "start_time": "2025-07-30T21:20:23.830752Z"
    }
   },
   "cell_type": "code",
   "source": [
    "# RUNNING THE TEST\n",
    "#Set parameters\n",
    "tail = 1\n",
    "alpha_cluster_forming = 0.05\n",
    "n_conditions = 2\n",
    "n_observations = len(X[0])\n",
    "dfn = n_conditions - 1\n",
    "dfd = n_observations - n_conditions\n",
    "f_thresh = stats.f.ppf(1-alpha_cluster_forming, dfn=dfn, dfd=dfd)\n",
    "\n",
    "#Run test\n",
    "cluster_stats = spatio_temporal_cluster_test(X, n_permutations=1000, threshold=f_thresh, tail=tail,\n",
    "                                                 adjacency=adjacency) #, step_down_p=0.1\n",
    "F_obs, clusters, p_values, _ = cluster_stats\n",
    "print(p_values)"
   ],
   "id": "f39e41f98eae1a63",
   "outputs": [
    {
     "name": "stdout",
     "output_type": "stream",
     "text": [
      "stat_fun(H1): min=1.859081045506644e-11 max=13.148038842496032\n",
      "Running initial clustering …\n",
      "Found 16 clusters\n"
     ]
    },
    {
     "data": {
      "text/plain": [
       "  0%|          | Permuting : 0/999 [00:00<?,       ?it/s]"
      ],
      "application/vnd.jupyter.widget-view+json": {
       "version_major": 2,
       "version_minor": 0,
       "model_id": "a3608e584d014a98947b43e8694e5f45"
      }
     },
     "metadata": {},
     "output_type": "display_data"
    },
    {
     "name": "stdout",
     "output_type": "stream",
     "text": [
      "[0.759 0.208 1.    0.93  0.997 0.997 0.615 1.    0.936 0.997 0.997 1.\n",
      " 0.996 0.997 0.877 0.972]\n"
     ]
    }
   ],
   "execution_count": 71
  },
  {
   "metadata": {
    "ExecuteTime": {
     "end_time": "2025-07-30T21:21:42.236307Z",
     "start_time": "2025-07-30T21:21:42.223868Z"
    }
   },
   "cell_type": "code",
   "source": [
    "p_accept = 0.5\n",
    "good_cluster_inds = np.where(p_values < p_accept)[0]\n",
    "print(good_cluster_inds)"
   ],
   "id": "ea9d02bb7064824f",
   "outputs": [
    {
     "name": "stdout",
     "output_type": "stream",
     "text": [
      "[1]\n"
     ]
    }
   ],
   "execution_count": 72
  },
  {
   "metadata": {
    "ExecuteTime": {
     "end_time": "2025-07-30T21:23:32.893516Z",
     "start_time": "2025-07-30T21:23:30.890498Z"
    }
   },
   "cell_type": "code",
   "source": [
    "evokeds = {\"Production Identical\": ident_prod_ga, \"Production Unrelated\": unrel_prod_ga}\n",
    "\n",
    "#Plot \"significant\" clusters (< p_accept)\n",
    "for i_clu, clu_idx in enumerate(good_cluster_inds):\n",
    "    #obtain indeces\n",
    "    time_inds, space_inds = np.squeeze(clusters[clu_idx])\n",
    "    ch_inds = np.unique(space_inds)\n",
    "    time_inds = np.unique(time_inds)\n",
    "    f_map = F_obs[time_inds, ...].mean(axis=0)\n",
    "    sig_times = ident_prod_ga.times[time_inds]\n",
    "\n",
    "    # sig_times = ident_prod_ga.times[time_inds + 600]\n",
    "\n",
    "    mask = np.zeros((f_map.shape[0], 1), dtype=bool)\n",
    "    mask[ch_inds, :] = True  # ADDED\n",
    "    fig, ax_topo = plt.subplots(1, 1, figsize=(10, 3), layout='constrained')\n",
    "    # epochs_prod_temp = ident_prod_ga.pick(picks='mag')\n",
    "\n",
    "    #Plot topographic map of F values\n",
    "    f_evoked = mne.EvokedArray(f_map[:, np.newaxis], ident_prod_ga.pick(picks='mag').info, tmin=0)\n",
    "    f_evoked.plot_topomap(\n",
    "        times=0,\n",
    "        mask=mask,\n",
    "        axes=ax_topo,\n",
    "        cmap='Reds',\n",
    "        vlim=(np.min, np.max),\n",
    "        show=False,\n",
    "        colorbar=False,\n",
    "        mask_params = dict(markersize=10)  # ADDED\n",
    "    )\n",
    "    image = ax_topo.images[0]\n",
    "    ax_topo.set_title(\"\")\n",
    "    # create additional axes (for ERF and colorbar)\n",
    "    divider = make_axes_locatable(ax_topo)\n",
    "    # add axes for colorbar\n",
    "    ax_colorbar = divider.append_axes(\"right\", size=\"5%\", pad=0.05)\n",
    "    plt.colorbar(image, cax=ax_colorbar)\n",
    "    ax_topo.set_xlabel(\n",
    "        \"Averaged F-map ({:0.3f} - {:0.3f} s)\".format(*sig_times[[0, -1]])\n",
    "    )\n",
    "\n",
    "    #Plot timecourse of significant cluster\n",
    "    ax_signals = divider.append_axes(\"right\", size=\"300%\", pad=1.2)\n",
    "    title = f\"Cluster #{i_clu + 1}, {len(ch_inds)} sensor\"\n",
    "    if len(ch_inds) > 1:\n",
    "        title += \"s (mean) with p value \" + str(p_values[clu_idx])\n",
    "    plot_compare_evokeds(\n",
    "        evokeds,\n",
    "        title=title,\n",
    "        picks=ch_inds,\n",
    "        axes=ax_signals,\n",
    "        show=False,\n",
    "        split_legend=True,\n",
    "        truncate_yaxis=\"auto\",\n",
    "    )\n",
    "    # plot temporal cluster extent\n",
    "    ymin, ymax = ax_signals.get_ylim()\n",
    "    ax_signals.fill_betweenx(\n",
    "        # (ymin, ymax), sig_times[0], sig_times[-1], color=\"orange\", alpha=0.3\n",
    "        (ymin, ymax), sig_times[0]+.3+tmin, sig_times[-1]+.3+tmin, color=\"orange\", alpha=0.3\n",
    "\n",
    "    )\n",
    "plt.show()"
   ],
   "id": "1e1ab56cb414aa75",
   "outputs": [
    {
     "name": "stdout",
     "output_type": "stream",
     "text": [
      "combining channels using RMS (mag channels)\n",
      "combining channels using RMS (mag channels)\n"
     ]
    },
    {
     "data": {
      "text/plain": [
       "<Figure size 1000x300 with 3 Axes>"
      ],
      "image/png": "[encoded data removed]"
     },
     "metadata": {},
     "output_type": "display_data"
    }
   ],
   "execution_count": 76
  },
  {
   "metadata": {
    "ExecuteTime": {
     "end_time": "2025-07-30T21:22:13.343507Z",
     "start_time": "2025-07-30T21:22:13.335539Z"
    }
   },
   "cell_type": "code",
   "source": "ch_names",
   "id": "8c8e1de041ffc254",
   "outputs": [
    {
     "data": {
      "text/plain": [
       "[np.str_('MEG 001'),\n",
       " np.str_('MEG 002'),\n",
       " np.str_('MEG 003'),\n",
       " np.str_('MEG 004'),\n",
       " np.str_('MEG 005'),\n",
       " np.str_('MEG 006'),\n",
       " np.str_('MEG 007'),\n",
       " np.str_('MEG 008'),\n",
       " np.str_('MEG 009'),\n",
       " np.str_('MEG 010'),\n",
       " np.str_('MEG 011'),\n",
       " np.str_('MEG 012'),\n",
       " np.str_('MEG 013'),\n",
       " np.str_('MEG 014'),\n",
       " np.str_('MEG 015'),\n",
       " np.str_('MEG 016'),\n",
       " np.str_('MEG 017'),\n",
       " np.str_('MEG 018'),\n",
       " np.str_('MEG 019'),\n",
       " np.str_('MEG 020'),\n",
       " np.str_('MEG 021'),\n",
       " np.str_('MEG 022'),\n",
       " np.str_('MEG 023'),\n",
       " np.str_('MEG 024'),\n",
       " np.str_('MEG 025'),\n",
       " np.str_('MEG 026'),\n",
       " np.str_('MEG 027'),\n",
       " np.str_('MEG 028'),\n",
       " np.str_('MEG 029'),\n",
       " np.str_('MEG 030'),\n",
       " np.str_('MEG 031'),\n",
       " np.str_('MEG 032'),\n",
       " np.str_('MEG 033'),\n",
       " np.str_('MEG 034'),\n",
       " np.str_('MEG 035'),\n",
       " np.str_('MEG 036'),\n",
       " np.str_('MEG 037'),\n",
       " np.str_('MEG 038'),\n",
       " np.str_('MEG 039'),\n",
       " np.str_('MEG 040'),\n",
       " np.str_('MEG 041'),\n",
       " np.str_('MEG 042'),\n",
       " np.str_('MEG 043'),\n",
       " np.str_('MEG 044'),\n",
       " np.str_('MEG 045'),\n",
       " np.str_('MEG 046'),\n",
       " np.str_('MEG 047'),\n",
       " np.str_('MEG 048'),\n",
       " np.str_('MEG 049'),\n",
       " np.str_('MEG 050'),\n",
       " np.str_('MEG 051'),\n",
       " np.str_('MEG 052'),\n",
       " np.str_('MEG 053'),\n",
       " np.str_('MEG 054'),\n",
       " np.str_('MEG 055'),\n",
       " np.str_('MEG 056'),\n",
       " np.str_('MEG 057'),\n",
       " np.str_('MEG 058'),\n",
       " np.str_('MEG 059'),\n",
       " np.str_('MEG 060'),\n",
       " np.str_('MEG 061'),\n",
       " np.str_('MEG 062'),\n",
       " np.str_('MEG 063'),\n",
       " np.str_('MEG 064'),\n",
       " np.str_('MEG 065'),\n",
       " np.str_('MEG 066'),\n",
       " np.str_('MEG 067'),\n",
       " np.str_('MEG 068'),\n",
       " np.str_('MEG 069'),\n",
       " np.str_('MEG 070'),\n",
       " np.str_('MEG 071'),\n",
       " np.str_('MEG 072'),\n",
       " np.str_('MEG 073'),\n",
       " np.str_('MEG 074'),\n",
       " np.str_('MEG 075'),\n",
       " np.str_('MEG 076'),\n",
       " np.str_('MEG 077'),\n",
       " np.str_('MEG 078'),\n",
       " np.str_('MEG 079'),\n",
       " np.str_('MEG 080'),\n",
       " np.str_('MEG 081'),\n",
       " np.str_('MEG 082'),\n",
       " np.str_('MEG 083'),\n",
       " np.str_('MEG 084'),\n",
       " np.str_('MEG 085'),\n",
       " np.str_('MEG 086'),\n",
       " np.str_('MEG 087'),\n",
       " np.str_('MEG 088'),\n",
       " np.str_('MEG 089'),\n",
       " np.str_('MEG 090'),\n",
       " np.str_('MEG 091'),\n",
       " np.str_('MEG 092'),\n",
       " np.str_('MEG 093'),\n",
       " np.str_('MEG 094'),\n",
       " np.str_('MEG 095'),\n",
       " np.str_('MEG 096'),\n",
       " np.str_('MEG 097'),\n",
       " np.str_('MEG 098'),\n",
       " np.str_('MEG 099'),\n",
       " np.str_('MEG 100'),\n",
       " np.str_('MEG 101'),\n",
       " np.str_('MEG 102'),\n",
       " np.str_('MEG 103'),\n",
       " np.str_('MEG 104'),\n",
       " np.str_('MEG 105'),\n",
       " np.str_('MEG 106'),\n",
       " np.str_('MEG 107'),\n",
       " np.str_('MEG 108'),\n",
       " np.str_('MEG 109'),\n",
       " np.str_('MEG 110'),\n",
       " np.str_('MEG 111'),\n",
       " np.str_('MEG 112'),\n",
       " np.str_('MEG 113'),\n",
       " np.str_('MEG 114'),\n",
       " np.str_('MEG 115'),\n",
       " np.str_('MEG 116'),\n",
       " np.str_('MEG 117'),\n",
       " np.str_('MEG 118'),\n",
       " np.str_('MEG 119'),\n",
       " np.str_('MEG 120'),\n",
       " np.str_('MEG 121'),\n",
       " np.str_('MEG 122'),\n",
       " np.str_('MEG 123'),\n",
       " np.str_('MEG 124'),\n",
       " np.str_('MEG 125'),\n",
       " np.str_('MEG 126'),\n",
       " np.str_('MEG 127'),\n",
       " np.str_('MEG 128'),\n",
       " np.str_('MEG 129'),\n",
       " np.str_('MEG 130'),\n",
       " np.str_('MEG 131'),\n",
       " np.str_('MEG 132'),\n",
       " np.str_('MEG 133'),\n",
       " np.str_('MEG 134'),\n",
       " np.str_('MEG 135'),\n",
       " np.str_('MEG 136'),\n",
       " np.str_('MEG 137'),\n",
       " np.str_('MEG 138'),\n",
       " np.str_('MEG 139'),\n",
       " np.str_('MEG 140'),\n",
       " np.str_('MEG 141'),\n",
       " np.str_('MEG 142'),\n",
       " np.str_('MEG 143'),\n",
       " np.str_('MEG 144'),\n",
       " np.str_('MEG 145'),\n",
       " np.str_('MEG 146'),\n",
       " np.str_('MEG 147'),\n",
       " np.str_('MEG 148'),\n",
       " np.str_('MEG 149'),\n",
       " np.str_('MEG 150'),\n",
       " np.str_('MEG 151'),\n",
       " np.str_('MEG 152'),\n",
       " np.str_('MEG 153'),\n",
       " np.str_('MEG 154'),\n",
       " np.str_('MEG 155'),\n",
       " np.str_('MEG 156'),\n",
       " np.str_('MEG 157')]"
      ]
     },
     "execution_count": 75,
     "metadata": {},
     "output_type": "execute_result"
    }
   ],
   "execution_count": 75
  },
  {
   "metadata": {
    "ExecuteTime": {
     "end_time": "2025-07-30T21:15:30.505099Z",
     "start_time": "2025-07-30T21:15:30.493505Z"
    }
   },
   "cell_type": "code",
   "source": "sig_times",
   "id": "fa59a0d50738a3fa",
   "outputs": [
    {
     "data": {
      "text/plain": [
       "array([0.518, 0.519, 0.52 , 0.521, 0.522, 0.523, 0.524, 0.525, 0.526,\n",
       "       0.527, 0.528, 0.529, 0.53 , 0.531, 0.532, 0.533, 0.534, 0.535,\n",
       "       0.536, 0.537, 0.538, 0.539, 0.54 , 0.541, 0.542, 0.543, 0.544,\n",
       "       0.545, 0.546, 0.547, 0.548, 0.549, 0.55 , 0.551, 0.552, 0.553,\n",
       "       0.554, 0.555, 0.556, 0.557, 0.558, 0.559, 0.56 , 0.561, 0.562,\n",
       "       0.563, 0.564, 0.565, 0.566, 0.567, 0.568, 0.569, 0.57 , 0.571,\n",
       "       0.572, 0.573, 0.574, 0.575, 0.576, 0.577, 0.578, 0.579, 0.58 ,\n",
       "       0.581, 0.582, 0.583, 0.584, 0.585, 0.586, 0.587, 0.588, 0.589,\n",
       "       0.59 , 0.591, 0.592, 0.593, 0.594, 0.595, 0.596, 0.597, 0.598,\n",
       "       0.599, 0.6  , 0.601, 0.602, 0.603, 0.604, 0.605, 0.606, 0.607,\n",
       "       0.608, 0.609, 0.61 , 0.611, 0.612, 0.613, 0.614, 0.615, 0.616,\n",
       "       0.617, 0.618, 0.619, 0.62 , 0.621, 0.622, 0.623])"
      ]
     },
     "execution_count": 64,
     "metadata": {},
     "output_type": "execute_result"
    }
   ],
   "execution_count": 64
  },
  {
   "metadata": {
    "ExecuteTime": {
     "end_time": "2025-07-30T20:51:22.419103Z",
     "start_time": "2025-07-30T20:51:22.410801Z"
    }
   },
   "cell_type": "code",
   "source": [
    "for i_clu, clu_idx in enumerate(good_cluster_inds):\n",
    "    #obtain indeces\n",
    "    time_inds, space_inds = np.squeeze(clusters[clu_idx])\n",
    "    ch_inds = np.unique(space_inds)\n",
    "    time_inds = np.unique(time_inds)\n",
    "    print(time_inds)"
   ],
   "id": "36f837d6dcde1c65",
   "outputs": [
    {
     "name": "stdout",
     "output_type": "stream",
     "text": [
      "[218 219 220 221 222 223 224 225 226 227 228 229 230 231 232 233 234 235\n",
      " 236 237 238 239 240 241 242 243 244 245 246 247 248 249 250 251 252 253\n",
      " 254 255 256 257 258 259 260 261 262 263 264 265 266 267 268 269 270 271\n",
      " 272 273 274 275 276 277 278 279 280 281 282 283 284 285 286 287 288 289\n",
      " 290 291 292 293 294 295 296 297 298 299 300 301 302 303 304 305 306 307\n",
      " 308 309 310 311 312 313 314 315 316 317 318 319 320 321 322 323]\n"
     ]
    }
   ],
   "execution_count": 32
  },
  {
   "metadata": {
    "ExecuteTime": {
     "end_time": "2025-07-30T20:59:16.431182Z",
     "start_time": "2025-07-30T20:59:16.422922Z"
    }
   },
   "cell_type": "code",
   "source": "time_inds + 600",
   "id": "5c2dafd7ab70058d",
   "outputs": [
    {
     "data": {
      "text/plain": [
       "array([818, 819, 820, 821, 822, 823, 824, 825, 826, 827, 828, 829, 830,\n",
       "       831, 832, 833, 834, 835, 836, 837, 838, 839, 840, 841, 842, 843,\n",
       "       844, 845, 846, 847, 848, 849, 850, 851, 852, 853, 854, 855, 856,\n",
       "       857, 858, 859, 860, 861, 862, 863, 864, 865, 866, 867, 868, 869,\n",
       "       870, 871, 872, 873, 874, 875, 876, 877, 878, 879, 880, 881, 882,\n",
       "       883, 884, 885, 886, 887, 888, 889, 890, 891, 892, 893, 894, 895,\n",
       "       896, 897, 898, 899, 900, 901, 902, 903, 904, 905, 906, 907, 908,\n",
       "       909, 910, 911, 912, 913, 914, 915, 916, 917, 918, 919, 920, 921,\n",
       "       922, 923])"
      ]
     },
     "execution_count": 57,
     "metadata": {},
     "output_type": "execute_result"
    }
   ],
   "execution_count": 57
  },
  {
   "metadata": {
    "ExecuteTime": {
     "end_time": "2025-07-30T20:54:55.589802Z",
     "start_time": "2025-07-30T20:54:55.579552Z"
    }
   },
   "cell_type": "code",
   "source": "len(ident_prod_ga.times)\n",
   "id": "9f540ed372553fc9",
   "outputs": [
    {
     "data": {
      "text/plain": [
       "1001"
      ]
     },
     "execution_count": 39,
     "metadata": {},
     "output_type": "execute_result"
    }
   ],
   "execution_count": 39
  },
  {
   "metadata": {
    "ExecuteTime": {
     "end_time": "2025-07-30T20:58:02.134683Z",
     "start_time": "2025-07-30T20:58:02.118402Z"
    }
   },
   "cell_type": "code",
   "source": [
    "# Convert ms to seconds\n",
    "tmin = 0.3  # 300 ms\n",
    "tmax = 0.7  # 600 ms\n",
    "\n",
    "# Find indices where the times fall within your desired window\n",
    "time_mask = (ident_prod_ga.times >= tmin) & (ident_prod_ga.times <= tmax)\n",
    "\n",
    "# Count how many time points are in that range\n",
    "num_timepoints = time_mask.sum()\n",
    "\n",
    "print(f\"Number of time points between 300–700 ms: {num_timepoints}\")"
   ],
   "id": "8ab0d60315c06e92",
   "outputs": [
    {
     "name": "stdout",
     "output_type": "stream",
     "text": [
      "Number of time points between 300–700 ms: 401\n"
     ]
    }
   ],
   "execution_count": 56
  },
  {
   "metadata": {
    "ExecuteTime": {
     "end_time": "2025-07-30T20:57:30.335432Z",
     "start_time": "2025-07-30T20:57:30.325292Z"
    }
   },
   "cell_type": "code",
   "source": [
    "# Convert ms to seconds\n",
    "tmin = -.3  # 300 ms\n",
    "tmax = 0.3  # 600 ms\n",
    "\n",
    "# Find indices where the times fall within your desired window\n",
    "time_mask = (ident_prod_ga.times >= tmin) & (ident_prod_ga.times < tmax)\n",
    "\n",
    "# Count how many time points are in that range\n",
    "num_timepoints = time_mask.sum()\n",
    "\n",
    "print(f\"Number of time points between -300–300 ms: {num_timepoints}\")"
   ],
   "id": "e3017bbd9d1ed88a",
   "outputs": [
    {
     "name": "stdout",
     "output_type": "stream",
     "text": [
      "Number of time points between -300–300 ms: 600\n"
     ]
    }
   ],
   "execution_count": 47
  }
 ],
 "metadata": {
  "kernelspec": {
   "display_name": "Python 3",
   "language": "python",
   "name": "python3"
  },
  "language_info": {
   "codemirror_mode": {
    "name": "ipython",
    "version": 2
   },
   "file_extension": ".py",
   "mimetype": "text/x-python",
   "name": "python",
   "nbconvert_exporter": "python",
   "pygments_lexer": "ipython2",
   "version": "2.7.6"
  }
 },
 "nbformat": 4,
 "nbformat_minor": 5
}
